{
 "cells": [
  {
   "cell_type": "markdown",
   "metadata": {},
   "source": [
    "# OptSum2016\n",
    "## Collaborative filtering workshop"
   ]
  },
  {
   "cell_type": "code",
   "execution_count": 1,
   "metadata": {
    "collapsed": true
   },
   "outputs": [],
   "source": [
    "# Introduce yourself, introduce the problem\n",
    "# Netflix prize contest that produced some cool research on the subject\n",
    "\n",
    "# http://conda.pydata.org/miniconda.html"
   ]
  },
  {
   "cell_type": "markdown",
   "metadata": {},
   "source": [
    "# Lets load the data TODO Commit data & images\n",
    "- If this cell works, the rest should work fine!"
   ]
  },
  {
   "cell_type": "markdown",
   "metadata": {},
   "source": [
    "### The typical machine learning datasets are of the form:"
   ]
  },
  {
   "cell_type": "markdown",
   "metadata": {},
   "source": [
    "$$\n",
    "\\huge{\n",
    "\\begin{array}{cc}\n",
    "  input&target\\\\\n",
    "  \\mathbf{x}_1&y_1\\\\\n",
    "  \\mathbf{x}_2&y_2\\\\  \n",
    "  \\vdots & \\vdots \\\\\n",
    "  \\mathbf{x}_N&y_N\n",
    "\\end{array}\n",
    "}\n",
    "$$"
   ]
  },
  {
   "cell_type": "markdown",
   "metadata": {},
   "source": [
    "### , a set of input vectors ($\\mathbf{x}_i$) and their associated targets ($y_i$), that we would like to predict.\n",
    "### Here it is easy to use standard algorithms like linear regression."
   ]
  },
  {
   "cell_type": "markdown",
   "metadata": {},
   "source": [
    "### Our dataset can be better viewed as:\n",
    "$$\n",
    "\\huge{\n",
    "\\begin{array}{ccc}\n",
    "  user&item&rating\\\\\n",
    "  u_1&v_1&r(u_1, v_1)\\\\\n",
    "  \\vdots & \\vdots \\\\\n",
    "  u_N&v_N&r(u_N, v_N)\n",
    "\\end{array}\n",
    "}\n",
    "$$\n",
    "\n",
    "### , which is a set of triplets of users, items and ratings which tell us what rating users gave to certain items. These items can be different for all users, so we never had the \"full\" picture.\n",
    "### You can visualize this problem with :"
   ]
  },
  {
   "cell_type": "markdown",
   "metadata": {},
   "source": [
    "<img src=\"notebook_images/rating_matrix1.png\" height=\"500\" width=\"500\">"
   ]
  },
  {
   "cell_type": "markdown",
   "metadata": {},
   "source": [
    "### Alot of ratings are actually missing from this matrix. They are zero, they are simply missing.\n",
    "\n",
    "### Lets load our experiment dataset."
   ]
  },
  {
   "cell_type": "code",
   "execution_count": 2,
   "metadata": {
    "collapsed": true
   },
   "outputs": [],
   "source": [
    "import numpy as np\n",
    "import pandas as pd\n",
    "import matplotlib.pyplot as plt\n",
    "import time\n",
    "import warnings\n",
    "warnings.filterwarnings('ignore')\n",
    "np.random.seed(1)\n",
    "%matplotlib inline\n",
    "plt.style.use('ggplot')\n",
    "# data = pd.read_csv('ml-20m/ratings_smaller.csv', index_col=0)\n",
    "# movies = pd.read_csv('ml-20m/movies_smaller.csv')\n",
    "\n",
    "data = pd.read_csv('ml-latest-small/ratings.csv')\n",
    "movies = pd.read_csv('ml-latest-small/movies.csv')\n",
    "movies = movies.set_index('movieId')[['title', 'genres']]"
   ]
  },
  {
   "cell_type": "code",
   "execution_count": 3,
   "metadata": {
    "collapsed": false
   },
   "outputs": [
    {
     "name": "stdout",
     "output_type": "stream",
     "text": [
      "668 users\n",
      "10325 movies\n",
      "6897100 possible ratings\n",
      "105339 ratings\n",
      "1.52729408012 % of possible ratings\n"
     ]
    }
   ],
   "source": [
    "# How many users?\n",
    "print data.userId.nunique(), 'users'\n",
    "\n",
    "# How many movies?\n",
    "print data.movieId.nunique(), 'movies'\n",
    "\n",
    "# How possible ratings?\n",
    "print data.userId.nunique() * data.movieId.nunique(), 'possible ratings'\n",
    "\n",
    "# How many do we have?\n",
    "print len(data), 'ratings'\n",
    "print 100 * (float(len(data)) / (data.userId.nunique() * data.movieId.nunique())), '% of possible ratings'\n",
    "\n",
    "# Less than 1%!"
   ]
  },
  {
   "cell_type": "markdown",
   "metadata": {},
   "source": [
    "### MovieLens small dataset.\n",
    "### We have:\n",
    "- ### 700 Users\n",
    "- ### 10,000 Movies\n",
    "- ### This means 7,000,000 possible ratings.\n",
    "- ### We have 100,000 ratings, so about 1.5% of all possible ratings."
   ]
  },
  {
   "cell_type": "code",
   "execution_count": 4,
   "metadata": {
    "collapsed": false
   },
   "outputs": [
    {
     "data": {
      "text/plain": [
       "<matplotlib.text.Text at 0x92c7cf8>"
      ]
     },
     "execution_count": 4,
     "metadata": {},
     "output_type": "execute_result"
    },
    {
     "data": {
      "image/png": "[encoded data removed]",
      "text/plain": [
       "<matplotlib.figure.Figure at 0x3a1ee48>"
      ]
     },
     "metadata": {},
     "output_type": "display_data"
    }
   ],
   "source": [
    "# Number of ratings per users\n",
    "fig = plt.figure(figsize=(10, 10))\n",
    "ax = plt.hist(data.groupby('userId').apply(lambda x: len(x)).values, bins=50)\n",
    "plt.title(\"Number of ratings per user\")"
   ]
  },
  {
   "cell_type": "code",
   "execution_count": 5,
   "metadata": {
    "collapsed": false
   },
   "outputs": [
    {
     "data": {
      "text/plain": [
       "<matplotlib.text.Text at 0xc14a1d0>"
      ]
     },
     "execution_count": 5,
     "metadata": {},
     "output_type": "execute_result"
    },
    {
     "data": {
      "image/png": "[encoded data removed]",
      "text/plain": [
       "<matplotlib.figure.Figure at 0xbbbb710>"
      ]
     },
     "metadata": {},
     "output_type": "display_data"
    }
   ],
   "source": [
    "# Number of ratings per movie\n",
    "fig = plt.figure(figsize=(10, 10))\n",
    "ax = plt.hist(data.groupby('movieId').apply(lambda x: len(x)).values, bins=50)\n",
    "plt.title('Number of ratings per movie')"
   ]
  },
  {
   "cell_type": "code",
   "execution_count": 6,
   "metadata": {
    "collapsed": false
   },
   "outputs": [
    {
     "data": {
      "text/plain": [
       "<matplotlib.text.Text at 0xbf33208>"
      ]
     },
     "execution_count": 6,
     "metadata": {},
     "output_type": "execute_result"
    },
    {
     "data": {
      "image/png": "[encoded data removed]",
      "text/plain": [
       "<matplotlib.figure.Figure at 0xbd5b908>"
      ]
     },
     "metadata": {},
     "output_type": "display_data"
    }
   ],
   "source": [
    "# Ratings distribution\n",
    "fig = plt.figure(figsize=(10, 10))\n",
    "ax = plt.hist(data.rating.values, bins=5)\n",
    "plt.title(\"Distribution of ratings\")"
   ]
  },
  {
   "cell_type": "code",
   "execution_count": 7,
   "metadata": {
    "collapsed": false
   },
   "outputs": [
    {
     "data": {
      "text/plain": [
       "<matplotlib.text.Text at 0xc071668>"
      ]
     },
     "execution_count": 7,
     "metadata": {},
     "output_type": "execute_result"
    },
    {
     "data": {
      "image/png": "[encoded data removed]",
      "text/plain": [
       "<matplotlib.figure.Figure at 0xc0135c0>"
      ]
     },
     "metadata": {},
     "output_type": "display_data"
    }
   ],
   "source": [
    "# Average rating per user\n",
    "fig = plt.figure(figsize=(10, 10))\n",
    "ax = plt.hist(data.groupby('userId').rating.mean().values, bins=10)\n",
    "plt.title(\"Average rating per user\")"
   ]
  },
  {
   "cell_type": "code",
   "execution_count": 8,
   "metadata": {
    "collapsed": false
   },
   "outputs": [
    {
     "data": {
      "text/plain": [
       "<matplotlib.text.Text at 0xc443588>"
      ]
     },
     "execution_count": 8,
     "metadata": {},
     "output_type": "execute_result"
    },
    {
     "data": {
      "image/png": "[encoded data removed]",
      "text/plain": [
       "<matplotlib.figure.Figure at 0xc41a9e8>"
      ]
     },
     "metadata": {},
     "output_type": "display_data"
    }
   ],
   "source": [
    "# Average rating per movie\n",
    "fig = plt.figure(figsize=(10, 10))\n",
    "ax = plt.hist(data.groupby('movieId').rating.mean().values, bins=10)\n",
    "plt.title('Average rating per movie')"
   ]
  },
  {
   "cell_type": "code",
   "execution_count": 9,
   "metadata": {
    "collapsed": false
   },
   "outputs": [
    {
     "data": {
      "text/html": [
       "<div>\n",
       "<table border=\"1\" class=\"dataframe\">\n",
       "  <thead>\n",
       "    <tr style=\"text-align: right;\">\n",
       "      <th></th>\n",
       "      <th>title</th>\n",
       "      <th>genres</th>\n",
       "      <th>rating</th>\n",
       "    </tr>\n",
       "    <tr>\n",
       "      <th>movieId</th>\n",
       "      <th></th>\n",
       "      <th></th>\n",
       "      <th></th>\n",
       "    </tr>\n",
       "  </thead>\n",
       "  <tbody>\n",
       "    <tr>\n",
       "      <th>465</th>\n",
       "      <td>Heaven &amp; Earth (1993)</td>\n",
       "      <td>Action|Drama|War</td>\n",
       "      <td>5</td>\n",
       "    </tr>\n",
       "    <tr>\n",
       "      <th>111387</th>\n",
       "      <td>Palo Alto (2013)</td>\n",
       "      <td>Drama</td>\n",
       "      <td>5</td>\n",
       "    </tr>\n",
       "    <tr>\n",
       "      <th>1757</th>\n",
       "      <td>Fallen Angels (Duo luo tian shi) (1995)</td>\n",
       "      <td>Drama|Romance</td>\n",
       "      <td>5</td>\n",
       "    </tr>\n",
       "    <tr>\n",
       "      <th>5003</th>\n",
       "      <td>Nine Lives of Fritz the Cat, The (1974)</td>\n",
       "      <td>Animation</td>\n",
       "      <td>5</td>\n",
       "    </tr>\n",
       "    <tr>\n",
       "      <th>5007</th>\n",
       "      <td>Topkapi (1964)</td>\n",
       "      <td>Adventure|Comedy|Thriller</td>\n",
       "      <td>5</td>\n",
       "    </tr>\n",
       "    <tr>\n",
       "      <th>5037</th>\n",
       "      <td>Long Gray Line, The (1955)</td>\n",
       "      <td>Drama</td>\n",
       "      <td>5</td>\n",
       "    </tr>\n",
       "    <tr>\n",
       "      <th>5042</th>\n",
       "      <td>Forbidden Zone (1980)</td>\n",
       "      <td>Musical|Sci-Fi</td>\n",
       "      <td>5</td>\n",
       "    </tr>\n",
       "    <tr>\n",
       "      <th>91007</th>\n",
       "      <td>I Want to Be a Soldier (2011)</td>\n",
       "      <td>Drama</td>\n",
       "      <td>5</td>\n",
       "    </tr>\n",
       "    <tr>\n",
       "      <th>5056</th>\n",
       "      <td>Enigma of Kaspar Hauser, The (a.k.a. Mystery o...</td>\n",
       "      <td>Crime|Drama</td>\n",
       "      <td>5</td>\n",
       "    </tr>\n",
       "    <tr>\n",
       "      <th>5090</th>\n",
       "      <td>Hunchback of Notre Dame, The (Notre Dame de Pa...</td>\n",
       "      <td>Drama</td>\n",
       "      <td>5</td>\n",
       "    </tr>\n",
       "  </tbody>\n",
       "</table>\n",
       "</div>"
      ],
      "text/plain": [
       "                                                     title  \\\n",
       "movieId                                                      \n",
       "465                                  Heaven & Earth (1993)   \n",
       "111387                                    Palo Alto (2013)   \n",
       "1757               Fallen Angels (Duo luo tian shi) (1995)   \n",
       "5003               Nine Lives of Fritz the Cat, The (1974)   \n",
       "5007                                        Topkapi (1964)   \n",
       "5037                            Long Gray Line, The (1955)   \n",
       "5042                                 Forbidden Zone (1980)   \n",
       "91007                        I Want to Be a Soldier (2011)   \n",
       "5056     Enigma of Kaspar Hauser, The (a.k.a. Mystery o...   \n",
       "5090     Hunchback of Notre Dame, The (Notre Dame de Pa...   \n",
       "\n",
       "                            genres  rating  \n",
       "movieId                                     \n",
       "465               Action|Drama|War       5  \n",
       "111387                       Drama       5  \n",
       "1757                 Drama|Romance       5  \n",
       "5003                     Animation       5  \n",
       "5007     Adventure|Comedy|Thriller       5  \n",
       "5037                         Drama       5  \n",
       "5042                Musical|Sci-Fi       5  \n",
       "91007                        Drama       5  \n",
       "5056                   Crime|Drama       5  \n",
       "5090                         Drama       5  "
      ]
     },
     "execution_count": 9,
     "metadata": {},
     "output_type": "execute_result"
    }
   ],
   "source": [
    "# Top Movies\n",
    "average_movie_rating = data.groupby('movieId').mean()\n",
    "top_movies = average_movie_rating.sort_values('rating', ascending=False).head(10)\n",
    "pd.concat([movies.loc[top_movies.index.values], \n",
    "           average_movie_rating.loc[top_movies.index.values].rating], axis=1)"
   ]
  },
  {
   "cell_type": "markdown",
   "metadata": {},
   "source": [
    "### Do you know any of those movies? I dont either..."
   ]
  },
  {
   "cell_type": "code",
   "execution_count": 10,
   "metadata": {
    "collapsed": false
   },
   "outputs": [
    {
     "data": {
      "text/html": [
       "<div>\n",
       "<table border=\"1\" class=\"dataframe\">\n",
       "  <thead>\n",
       "    <tr style=\"text-align: right;\">\n",
       "      <th></th>\n",
       "      <th>title</th>\n",
       "      <th>genres</th>\n",
       "      <th>rating</th>\n",
       "    </tr>\n",
       "    <tr>\n",
       "      <th>movieId</th>\n",
       "      <th></th>\n",
       "      <th></th>\n",
       "      <th></th>\n",
       "    </tr>\n",
       "  </thead>\n",
       "  <tbody>\n",
       "    <tr>\n",
       "      <th>318</th>\n",
       "      <td>Shawshank Redemption, The (1994)</td>\n",
       "      <td>Crime|Drama</td>\n",
       "      <td>4.454545</td>\n",
       "    </tr>\n",
       "    <tr>\n",
       "      <th>296</th>\n",
       "      <td>Pulp Fiction (1994)</td>\n",
       "      <td>Comedy|Crime|Drama|Thriller</td>\n",
       "      <td>4.160000</td>\n",
       "    </tr>\n",
       "    <tr>\n",
       "      <th>356</th>\n",
       "      <td>Forrest Gump (1994)</td>\n",
       "      <td>Comedy|Drama|Romance|War</td>\n",
       "      <td>4.138264</td>\n",
       "    </tr>\n",
       "    <tr>\n",
       "      <th>593</th>\n",
       "      <td>Silence of the Lambs, The (1991)</td>\n",
       "      <td>Crime|Horror|Thriller</td>\n",
       "      <td>4.194828</td>\n",
       "    </tr>\n",
       "    <tr>\n",
       "      <th>260</th>\n",
       "      <td>Star Wars: Episode IV - A New Hope (1977)</td>\n",
       "      <td>Action|Adventure|Sci-Fi</td>\n",
       "      <td>4.188645</td>\n",
       "    </tr>\n",
       "    <tr>\n",
       "      <th>2571</th>\n",
       "      <td>Matrix, The (1999)</td>\n",
       "      <td>Action|Sci-Fi|Thriller</td>\n",
       "      <td>4.264368</td>\n",
       "    </tr>\n",
       "    <tr>\n",
       "      <th>527</th>\n",
       "      <td>Schindler's List (1993)</td>\n",
       "      <td>Drama|War</td>\n",
       "      <td>4.296371</td>\n",
       "    </tr>\n",
       "    <tr>\n",
       "      <th>50</th>\n",
       "      <td>Usual Suspects, The (1995)</td>\n",
       "      <td>Crime|Mystery|Thriller</td>\n",
       "      <td>4.328947</td>\n",
       "    </tr>\n",
       "    <tr>\n",
       "      <th>110</th>\n",
       "      <td>Braveheart (1995)</td>\n",
       "      <td>Action|Drama|War</td>\n",
       "      <td>4.108871</td>\n",
       "    </tr>\n",
       "    <tr>\n",
       "      <th>1196</th>\n",
       "      <td>Star Wars: Episode V - The Empire Strikes Back...</td>\n",
       "      <td>Action|Adventure|Sci-Fi</td>\n",
       "      <td>4.228070</td>\n",
       "    </tr>\n",
       "  </tbody>\n",
       "</table>\n",
       "</div>"
      ],
      "text/plain": [
       "                                                     title  \\\n",
       "movieId                                                      \n",
       "318                       Shawshank Redemption, The (1994)   \n",
       "296                                    Pulp Fiction (1994)   \n",
       "356                                    Forrest Gump (1994)   \n",
       "593                       Silence of the Lambs, The (1991)   \n",
       "260              Star Wars: Episode IV - A New Hope (1977)   \n",
       "2571                                    Matrix, The (1999)   \n",
       "527                                Schindler's List (1993)   \n",
       "50                              Usual Suspects, The (1995)   \n",
       "110                                      Braveheart (1995)   \n",
       "1196     Star Wars: Episode V - The Empire Strikes Back...   \n",
       "\n",
       "                              genres    rating  \n",
       "movieId                                         \n",
       "318                      Crime|Drama  4.454545  \n",
       "296      Comedy|Crime|Drama|Thriller  4.160000  \n",
       "356         Comedy|Drama|Romance|War  4.138264  \n",
       "593            Crime|Horror|Thriller  4.194828  \n",
       "260          Action|Adventure|Sci-Fi  4.188645  \n",
       "2571          Action|Sci-Fi|Thriller  4.264368  \n",
       "527                        Drama|War  4.296371  \n",
       "50            Crime|Mystery|Thriller  4.328947  \n",
       "110                 Action|Drama|War  4.108871  \n",
       "1196         Action|Adventure|Sci-Fi  4.228070  "
      ]
     },
     "execution_count": 10,
     "metadata": {},
     "output_type": "execute_result"
    }
   ],
   "source": [
    "# Robust Top Movies - Lets weight the average rating by the square root of number of ratings\n",
    "top_movies = data.groupby('movieId').apply(lambda x:len(x)**0.5 * x.mean()).sort_values('rating', ascending=False).head(10)\n",
    "pd.concat([movies.loc[top_movies.index.values], \n",
    "           average_movie_rating.loc[top_movies.index.values].rating], axis=1)"
   ]
  },
  {
   "cell_type": "code",
   "execution_count": 11,
   "metadata": {
    "collapsed": false
   },
   "outputs": [
    {
     "data": {
      "text/html": [
       "<div>\n",
       "<table border=\"1\" class=\"dataframe\">\n",
       "  <thead>\n",
       "    <tr style=\"text-align: right;\">\n",
       "      <th></th>\n",
       "      <th>title</th>\n",
       "      <th>genres</th>\n",
       "      <th>rating</th>\n",
       "    </tr>\n",
       "    <tr>\n",
       "      <th>movieId</th>\n",
       "      <th></th>\n",
       "      <th></th>\n",
       "      <th></th>\n",
       "    </tr>\n",
       "  </thead>\n",
       "  <tbody>\n",
       "    <tr>\n",
       "      <th>344</th>\n",
       "      <td>Ace Ventura: Pet Detective (1994)</td>\n",
       "      <td>Comedy</td>\n",
       "      <td>2.849711</td>\n",
       "    </tr>\n",
       "    <tr>\n",
       "      <th>231</th>\n",
       "      <td>Dumb &amp; Dumber (Dumb and Dumber) (1994)</td>\n",
       "      <td>Adventure|Comedy</td>\n",
       "      <td>3.003356</td>\n",
       "    </tr>\n",
       "    <tr>\n",
       "      <th>1721</th>\n",
       "      <td>Titanic (1997)</td>\n",
       "      <td>Drama|Romance</td>\n",
       "      <td>3.356209</td>\n",
       "    </tr>\n",
       "    <tr>\n",
       "      <th>1206</th>\n",
       "      <td>Clockwork Orange, A (1971)</td>\n",
       "      <td>Crime|Drama|Sci-Fi|Thriller</td>\n",
       "      <td>3.865672</td>\n",
       "    </tr>\n",
       "    <tr>\n",
       "      <th>296</th>\n",
       "      <td>Pulp Fiction (1994)</td>\n",
       "      <td>Comedy|Crime|Drama|Thriller</td>\n",
       "      <td>4.160000</td>\n",
       "    </tr>\n",
       "    <tr>\n",
       "      <th>480</th>\n",
       "      <td>Jurassic Park (1993)</td>\n",
       "      <td>Action|Adventure|Sci-Fi|Thriller</td>\n",
       "      <td>3.659864</td>\n",
       "    </tr>\n",
       "    <tr>\n",
       "      <th>356</th>\n",
       "      <td>Forrest Gump (1994)</td>\n",
       "      <td>Comedy|Drama|Romance|War</td>\n",
       "      <td>4.138264</td>\n",
       "    </tr>\n",
       "    <tr>\n",
       "      <th>94439</th>\n",
       "      <td>Jumping the Broom (2011)</td>\n",
       "      <td>Comedy</td>\n",
       "      <td>2.750000</td>\n",
       "    </tr>\n",
       "    <tr>\n",
       "      <th>60291</th>\n",
       "      <td>Gonzo: The Life and Work of Dr. Hunter S. Thom...</td>\n",
       "      <td>Documentary</td>\n",
       "      <td>2.750000</td>\n",
       "    </tr>\n",
       "    <tr>\n",
       "      <th>1676</th>\n",
       "      <td>Starship Troopers (1997)</td>\n",
       "      <td>Action|Sci-Fi</td>\n",
       "      <td>3.065217</td>\n",
       "    </tr>\n",
       "  </tbody>\n",
       "</table>\n",
       "</div>"
      ],
      "text/plain": [
       "                                                     title  \\\n",
       "movieId                                                      \n",
       "344                      Ace Ventura: Pet Detective (1994)   \n",
       "231                 Dumb & Dumber (Dumb and Dumber) (1994)   \n",
       "1721                                        Titanic (1997)   \n",
       "1206                            Clockwork Orange, A (1971)   \n",
       "296                                    Pulp Fiction (1994)   \n",
       "480                                   Jurassic Park (1993)   \n",
       "356                                    Forrest Gump (1994)   \n",
       "94439                             Jumping the Broom (2011)   \n",
       "60291    Gonzo: The Life and Work of Dr. Hunter S. Thom...   \n",
       "1676                              Starship Troopers (1997)   \n",
       "\n",
       "                                   genres    rating  \n",
       "movieId                                              \n",
       "344                                Comedy  2.849711  \n",
       "231                      Adventure|Comedy  3.003356  \n",
       "1721                        Drama|Romance  3.356209  \n",
       "1206          Crime|Drama|Sci-Fi|Thriller  3.865672  \n",
       "296           Comedy|Crime|Drama|Thriller  4.160000  \n",
       "480      Action|Adventure|Sci-Fi|Thriller  3.659864  \n",
       "356              Comedy|Drama|Romance|War  4.138264  \n",
       "94439                              Comedy  2.750000  \n",
       "60291                         Documentary  2.750000  \n",
       "1676                        Action|Sci-Fi  3.065217  "
      ]
     },
     "execution_count": 11,
     "metadata": {},
     "output_type": "execute_result"
    }
   ],
   "source": [
    "controversial_movies = data.groupby('movieId').apply(lambda x:len(x)**0.25 * x.std()).sort_values('rating', ascending=False).head(10)\n",
    "pd.concat([movies.loc[controversial_movies.index.values], \n",
    "           average_movie_rating.loc[controversial_movies.index.values].rating], axis=1)"
   ]
  },
  {
   "cell_type": "markdown",
   "metadata": {},
   "source": [
    "### We would like to produce estimates $\\tilde{r}$ for all the missing ratings"
   ]
  },
  {
   "cell_type": "markdown",
   "metadata": {},
   "source": [
    "<img src=\"notebook_images/rating_matrix2.png\" height=\"500\" width=\"500\">"
   ]
  },
  {
   "cell_type": "markdown",
   "metadata": {},
   "source": [
    "### Collaborative filtering is trying to complete the user-item rating matrix by sharing information across rows (users) and columns (items)\n",
    "### Some ideas :\n",
    "\n",
    "________________________________________________________________________________________________________________________________\n",
    "\n",
    "\n",
    "### <center><i>Predict with the average rating of the available ratings for each item.</i></center>\n",
    "\n",
    "### Actually a good solution in terms of simplicity vs. efficiency, but everyone gets the same predictions. What about movies with few ratings? Also not very personalized...\n",
    "\n",
    "________________________________________________________________________________________________________________________________\n",
    "\n",
    "\n",
    "### <center><i>Use the attributes of each item and build a model for each user using these attributes. This is known as content filtering.</i></center>\n",
    "\n",
    "### Can work well, but sometimes the attributes are not very good (how can we know the difference between a good action movie and a bad one?). Also need thousands and thousands of classifiers, and information is not shared across users...\n",
    "### Lets suppose we dont even have attributes.\n",
    "\n",
    "________________________________________________________________________________________________________________________________\n",
    "\n",
    "\n",
    "### <center><i>Predict using the average rating of the most similar movies of users (in terms of ratings)</i></center>\n",
    "\n",
    "### Known as k-Nearest-Neighbours, a standard machine learning algorithm. This can work well, but requires some engineering to perform well and to scale well (as we need to query or precompute alot of information).\n",
    "\n",
    "\n",
    "________________________________________________________________________________________________________________________________\n",
    "\n",
    "\n",
    "### <center><i>Discover hidden attributes of the items and each user's preference for these attributes.</i></center>\n",
    "\n",
    "### This is known as learning \"embeddings\" for users and items.\n",
    "\n",
    "### Imagine that each item has a set of hidden attributes, and users have preferences for each of these attributes. The estimated rating could be the linear combination of the attributes and preferences (dot product)."
   ]
  },
  {
   "cell_type": "markdown",
   "metadata": {},
   "source": [
    "<img src=\"notebook_images/rating_matrix3.png\" height=\"500\" width=\"500\">"
   ]
  },
  {
   "cell_type": "markdown",
   "metadata": {},
   "source": [
    "### This is like decomposing the matrix..."
   ]
  },
  {
   "cell_type": "markdown",
   "metadata": {},
   "source": [
    "<img src=\"notebook_images/factorization.svg\" height=\"700\" width=\"700\">"
   ]
  },
  {
   "cell_type": "markdown",
   "metadata": {},
   "source": [
    "### How will we find the \"hidden\" attributes (embeddings) if they are... hidden ?\n",
    "\n",
    "### We will formulate a mathematical model and apply numerical optimization to find the embeddings of items and users.\n",
    "\n",
    "## <center> <font color=\"red\">Warning!</font> Math ahead...</center>"
   ]
  },
  {
   "cell_type": "markdown",
   "metadata": {},
   "source": [
    "### We want our model (function f) to minimize a given error measure between predictions and actual values.\n",
    "\n",
    "## $$ \\tilde{r} = f(u, i) $$\n",
    "\n",
    "### Most basic error measure is the mean squared error :\n",
    "\n",
    "## $$ \\mathscr{E} = \\frac{1}{N} \\sum_{k=1...N} (\\tilde{r}_k - r_k)  $$\n",
    "\n",
    "### Our embeddings for users and items are written as:\n",
    "\n",
    "### embedding for user u : \n",
    "## $$ p_u $$\n",
    "### embedding for item i : \n",
    "## $$ q_i $$\n",
    "\n",
    "### And our complicated model will be...\n",
    "\n",
    ".\n",
    "\n",
    "<font size=6> $$ f(u,i)= q_i^{T} p_u  $$</font>\n",
    "\n",
    ".\n",
    "\n",
    "### Perhaps we can do a little bit better with an even simpler modelling trick: some items are just bad, and some people are always positive. \n",
    "### We can model this by simply having a bias term for users and items, along with a main bias term for all ratings.\n",
    "### This allows embeddings to encode the actual attributes of items and users instead of their bias.\n",
    "\n",
    "### We will have a main bias:\n",
    "\n",
    "## $$ b $$\n",
    "\n",
    "### User bias for user u:\n",
    "\n",
    "## $$ b_u $$\n",
    "\n",
    "### And item bias for item i:\n",
    "\n",
    "## $$ b_i $$\n",
    "\n",
    "\n",
    "### Our final model will simply be the sum of all these terms.\n",
    ".\n",
    "<font size=6>$$ f(u,i) = b + b_u + b_i + q_i^{T} p_u $$</font>\n"
   ]
  },
  {
   "cell_type": "markdown",
   "metadata": {},
   "source": [
    "### <center><font color=\"red\">Still More Math...</font></center>"
   ]
  },
  {
   "cell_type": "markdown",
   "metadata": {},
   "source": [
    "### We are not quite done yet...\n",
    "\n",
    "### How do we find biases and embeddings for thousands of users and items?\n",
    "\n",
    "### There are many numerical optimization algorithms. Lets use one that simple and efficient, gradient descent.\n",
    "\n",
    "### Given our dataset, we can iteratively move the parameters in the appropriate direction to improve the mean squared error, until we are tired of waiting, or until performance does not improve anymore.\n",
    "\n",
    "### This simply means moving in the direction of the gradient of the error with regards to the model parameters (usually called $ \\theta $),  denoted by:\n",
    "## $$ \\frac{\\delta \\mathscr{L}}{\\delta \\theta} $$\n",
    "### where\n",
    "## $$ \\theta = \\{b, b_u, b_i, q_i, p_u\\} $$\n",
    "### for all users $u$ and items $i$.\n",
    "\n",
    "### The \"gradient descent\" iteration is:\n",
    "## $$ \\theta \\leftarrow \\theta + \\alpha \\frac{\\delta \\mathscr{L}}{\\delta \\theta} $$\n",
    "### Where $\\alpha$ controls how big the gradient steps are. We call this the learning rate.\n",
    "\n",
    "#### We could do this on the whole dataset at every iteration, adding the gradients together before updating. This is the standard gradient algorithm (compute the gradient on the whole training set and then update the parameters).\n",
    "#### However we can speed this up alot by using one random training every iteration. Without going into too much detail, the gradient of a random training is, on average, the same as the gradient on the whole training set. This means we can go, in theory, thousands of times faster!"
   ]
  },
  {
   "cell_type": "markdown",
   "metadata": {},
   "source": [
    "### <center><font color=\"red\">Condensed information</font>:\n",
    "- ### Loop over examples.\n",
    "- ### Update model parameters to decrease the error.\n",
    "- ### Continue until we cant improve anymore or we get bored.\n",
    "</center>"
   ]
  },
  {
   "cell_type": "markdown",
   "metadata": {},
   "source": [
    "### Gradient descent in one image:\n",
    "<img src=\"notebook_images/sgd_optimal.png\" height=\"600\" width=\"600\">"
   ]
  },
  {
   "cell_type": "markdown",
   "metadata": {},
   "source": [
    "\n",
    "\n",
    "\n",
    "\n",
    "\n",
    "\n",
    "\n"
   ]
  },
  {
   "cell_type": "markdown",
   "metadata": {},
   "source": [
    "# <center><font color=\"blue\">The Model</font></center>"
   ]
  },
  {
   "cell_type": "markdown",
   "metadata": {},
   "source": [
    "## Now we are ready to train the model!"
   ]
  },
  {
   "cell_type": "markdown",
   "metadata": {},
   "source": [
    "### Split the data into training and testing sets."
   ]
  },
  {
   "cell_type": "code",
   "execution_count": 12,
   "metadata": {
    "collapsed": true
   },
   "outputs": [],
   "source": [
    "ratings = data[['userId', 'movieId', 'rating']].values\n",
    "\n",
    "# Shuffle training examples so that movies and users are evenly distributed\n",
    "np.random.shuffle(ratings)\n",
    "\n",
    "n_users, n_items, _ = ratings.max(axis=0) + 1\n",
    "n = len(ratings)\n",
    "\n",
    "split_ratios = [0, 0.7, 0.85, 1]\n",
    "train_ratings, valid_ratings, test_ratings = [ratings[int(n*lo):int(n*up)] for (lo, up) in zip(split_ratios[:-1], split_ratios[1:])]"
   ]
  },
  {
   "cell_type": "markdown",
   "metadata": {},
   "source": [
    "### Code for the model object.\n",
    "### Implements code for\n",
    "- #### Initializing embeddings and biases\n",
    "- #### Saving and loading parameters\n",
    "- #### Predicting given user-item pairs\n",
    "- #### Update the parameters to decrease the error"
   ]
  },
  {
   "cell_type": "code",
   "execution_count": 13,
   "metadata": {
    "collapsed": false
   },
   "outputs": [],
   "source": [
    "gradients = [\"dL_db\", \"dL_dbu\", \"dL_dbv\", \"dL_dU\", \"dL_dV\"]\n",
    "\n",
    "class Model(object):\n",
    "    def __init__(self, latent_factors_size, L2_bias=0, L2_emb=0):\n",
    "        self.model_parameters = []\n",
    "        self.gradients = []\n",
    "        for (name, value) in self.initialize_parameters(latent_factors_size):\n",
    "            setattr(self, name, value)\n",
    "            self.gradients.append(\"dL_d%s\" % name)\n",
    "            self.model_parameters.append(name)\n",
    "    \n",
    "    # Used to save parameters during the optimization\n",
    "    def save_parameters(self):\n",
    "        return [(name, np.copy(getattr(self, name))) for name in self.model_parameters]\n",
    "    \n",
    "    # Used to reload the best parameters once the optimization is finished\n",
    "    def load_parameters(self, parameters):\n",
    "        for (name, value) in parameters:\n",
    "            setattr(self, name, value)\n",
    "    \n",
    "    # Random embedding generation from normal distribution, given a size and variance\n",
    "    def initialize_parameters(self, latent_factors_size=100, std=0.05):\n",
    "        U = np.random.normal(0., std, size=(n_users + 1, latent_factors_size))\n",
    "        V = np.random.normal(0., std, size=(n_items + 1, latent_factors_size))\n",
    "        u = np.zeros(n_users + 1)\n",
    "        v = np.zeros(n_items + 1)\n",
    "        return zip((\"b\", \"u\", \"v\", \"U\", \"V\"), (0, u, v, U, V))\n",
    "            \n",
    "    # Compute the gradients of the biases and embeddings, given the user-item\n",
    "    def compute_gradient(self, user_ids, item_ids, ratings):\n",
    "        predicted_ratings = self.predict(user_ids, item_ids)\n",
    "        residual = ratings - predicted_ratings\n",
    "\n",
    "        # biases\n",
    "        dL_db = -2 * residual\n",
    "        dL_dbu = -2 * residual\n",
    "        dL_dbv = -2 * residual\n",
    "\n",
    "        # embeddings\n",
    "        eu = self.U[user_ids]\n",
    "        ev = self.V[item_ids]\n",
    "\n",
    "        dL_dU = -2 * residual * ev\n",
    "        dL_dV = -2 * residual * eu\n",
    "\n",
    "        # Regularization\n",
    "        l2 = 0.1\n",
    "        dl2eu_dU = l2 * 2*eu\n",
    "        dl2ev_dV = l2 * 2*ev\n",
    "        dl2bu_dbu = l2 * 2*self.u[user_ids]\n",
    "        dl2bv_dbv = l2 * 2*self.v[item_ids]\n",
    "        \n",
    "        dL_dbu = dL_dbu + dl2bu_dbu\n",
    "        dL_dbv = dL_dbv + dl2bv_dbv\n",
    "        dL_dU = dL_dU + dl2eu_dU\n",
    "        dL_dV = dL_dV + dl2ev_dV\n",
    "        \n",
    "        return dict([(g, eval(g)) for g in gradients])\n",
    "    \n",
    "    # Sum of the biases and dot product of the embeddings\n",
    "    def predict(self, user_ids, item_ids):\n",
    "        user_ids = user_ids.astype('int')\n",
    "        item_ids = item_ids.astype('int')\n",
    "        return sum([self.b, \n",
    "                    self.u[user_ids], \n",
    "                    self.v[item_ids], \n",
    "                    (self.U[user_ids] * self.V[item_ids]).sum(axis=-1)])\n",
    "    \n",
    "    # Perform a gradient descent step\n",
    "    def update_parameters(self, user, item, rating, learning_rate = 0.005):\n",
    "        gradients = self.compute_gradient(user, item, rating)\n",
    "        self.b = self.b - learning_rate * gradients['dL_db']\n",
    "        self.u[user] = self.u[user] - learning_rate * gradients['dL_dbu']\n",
    "        self.v[item] = self.v[item] - learning_rate * gradients['dL_dbv']\n",
    "        self.U[user] = self.U[user] - learning_rate * gradients['dL_dU']\n",
    "        self.V[item] = self.V[item] - learning_rate * gradients['dL_dV']"
   ]
  },
  {
   "cell_type": "markdown",
   "metadata": {},
   "source": [
    "#### Some useful utilitary functions"
   ]
  },
  {
   "cell_type": "code",
   "execution_count": 14,
   "metadata": {
    "collapsed": true
   },
   "outputs": [],
   "source": [
    "# Generate a random number \n",
    "def sample_random_training_index():\n",
    "    return np.random.randint(0, len(train_ratings))\n",
    "\n",
    "# Compute root mean squared error between x and y\n",
    "def compute_rmse(x, y):\n",
    "    return ((x - y)**2).mean()**0.5\n",
    "\n",
    "# utilitary functions for getting the train/valid/test\n",
    "def get_rmse(ratings):\n",
    "    return compute_rmse(model.predict(*ratings.T[:2]), ratings.T[2])\n",
    "\n",
    "def get_trainset_rmse():\n",
    "    return get_rmse(train_ratings)\n",
    "\n",
    "def get_validset_rmse():\n",
    "    return get_rmse(valid_ratings)\n",
    "\n",
    "def get_testset_rmse():\n",
    "    return get_rmse(test_ratings)"
   ]
  },
  {
   "cell_type": "markdown",
   "metadata": {},
   "source": [
    "#### Initialization of the model and optimization"
   ]
  },
  {
   "cell_type": "code",
   "execution_count": 15,
   "metadata": {
    "collapsed": false
   },
   "outputs": [],
   "source": [
    "model = Model(latent_factors_size=100)\n",
    "model.b = train_ratings[:,2].mean()\n",
    "\n",
    "sgd_iteration_count = 0\n",
    "best_validation_rmse = 9999\n",
    "patience = 0\n",
    "update_frequency = 10000\n",
    "\n",
    "train_errors = []\n",
    "valid_errors = []\n",
    "test_errors = []\n",
    "\n",
    "best_parameters = None\n",
    "\n",
    "# model size = 100\n",
    "# learning rate = 0.005\n",
    "# l2 = 0.1\n",
    "# Should take 6 minutes"
   ]
  },
  {
   "cell_type": "markdown",
   "metadata": {},
   "source": [
    "#### The gradient descent optimization\n",
    "#### Additional notes concerning optimization:\n",
    "<ul>\n",
    "  <li>We will measure performance on the validation set. Optimization will stop when we no longer improve on the validation, after a certain number of iterations (patience).</li>\n",
    "  <li>We will save the error on the training, validation and test set every 10000 iterations.</li>\n",
    "  <li>Whenever we see the best validation error up to now, we will save the model parameters.</li>\n",
    "</ul>"
   ]
  },
  {
   "cell_type": "code",
   "execution_count": 16,
   "metadata": {
    "collapsed": false,
    "scrolled": true
   },
   "outputs": [
    {
     "name": "stdout",
     "output_type": "stream",
     "text": [
      "Iteration:       0\n",
      "Validation RMSE: 1.03988865434\n",
      "Test RMSE      : 1.04147997742\n",
      "Best validation error up to now !\n",
      "\n",
      "Iteration:       10000\n",
      "Validation RMSE: 0.97574705816\n",
      "Test RMSE      : 0.97772137011\n",
      "Best validation error up to now !\n",
      "\n",
      "Iteration:       20000\n",
      "Validation RMSE: 0.950909684591\n",
      "Test RMSE      : 0.954221384236\n",
      "Best validation error up to now !\n",
      "\n",
      "Iteration:       30000\n",
      "Validation RMSE: 0.938221877076\n",
      "Test RMSE      : 0.940200871287\n",
      "Best validation error up to now !\n",
      "\n",
      "Iteration:       40000\n",
      "Validation RMSE: 0.946515503838\n",
      "\n",
      "Iteration:       50000\n",
      "Validation RMSE: 0.922983771001\n",
      "Test RMSE      : 0.925970023317\n",
      "Best validation error up to now !\n",
      "\n",
      "Iteration:       60000\n",
      "Validation RMSE: 0.916044267822\n",
      "Test RMSE      : 0.920500541642\n",
      "Best validation error up to now !\n",
      "\n",
      "Iteration:       70000\n",
      "Validation RMSE: 0.912196121263\n",
      "Test RMSE      : 0.916756176286\n",
      "Best validation error up to now !\n",
      "\n",
      "Iteration:       80000\n",
      "Validation RMSE: 0.908340381843\n",
      "Test RMSE      : 0.912218228239\n",
      "Best validation error up to now !\n",
      "\n",
      "Iteration:       90000\n",
      "Validation RMSE: 0.904997290145\n",
      "Test RMSE      : 0.909057486976\n",
      "Best validation error up to now !\n",
      "\n",
      "Iteration:       100000\n",
      "Validation RMSE: 0.904766981802\n",
      "Test RMSE      : 0.906863283968\n",
      "Best validation error up to now !\n",
      "\n",
      "Iteration:       110000\n",
      "Validation RMSE: 0.901192243291\n",
      "Test RMSE      : 0.90330585748\n",
      "Best validation error up to now !\n",
      "\n",
      "Iteration:       120000\n",
      "Validation RMSE: 0.900137066765\n",
      "Test RMSE      : 0.903191330952\n",
      "Best validation error up to now !\n",
      "\n",
      "Iteration:       130000\n",
      "Validation RMSE: 0.896342902532\n",
      "Test RMSE      : 0.90079032083\n",
      "Best validation error up to now !\n",
      "\n",
      "Iteration:       140000\n",
      "Validation RMSE: 0.893973876995\n",
      "Test RMSE      : 0.898602350112\n",
      "Best validation error up to now !\n",
      "\n",
      "Iteration:       150000\n",
      "Validation RMSE: 0.896999708032\n",
      "\n",
      "Iteration:       160000\n",
      "Validation RMSE: 0.900870533997\n",
      "\n",
      "Iteration:       170000\n",
      "Validation RMSE: 0.890112209608\n",
      "Test RMSE      : 0.893725982809\n",
      "Best validation error up to now !\n",
      "\n",
      "Iteration:       180000\n",
      "Validation RMSE: 0.900600156147\n",
      "\n",
      "Iteration:       190000\n",
      "Validation RMSE: 0.890758886975\n",
      "\n",
      "Iteration:       200000\n",
      "Validation RMSE: 0.88792467992\n",
      "Test RMSE      : 0.890600611205\n",
      "Best validation error up to now !\n",
      "\n",
      "Iteration:       210000\n",
      "Validation RMSE: 0.886211616556\n",
      "Test RMSE      : 0.889707849362\n",
      "Best validation error up to now !\n",
      "\n",
      "Iteration:       220000\n",
      "Validation RMSE: 0.885058218216\n",
      "Test RMSE      : 0.888817215228\n",
      "Best validation error up to now !\n",
      "\n",
      "Iteration:       230000\n",
      "Validation RMSE: 0.885347383457\n",
      "\n",
      "Iteration:       240000\n",
      "Validation RMSE: 0.882419131836\n",
      "Test RMSE      : 0.888043014481\n",
      "Best validation error up to now !\n",
      "\n",
      "Iteration:       250000\n",
      "Validation RMSE: 0.887110003174\n",
      "\n",
      "Iteration:       260000\n",
      "Validation RMSE: 0.88262967519\n",
      "\n",
      "Iteration:       270000\n",
      "Validation RMSE: 0.886678406354\n",
      "\n",
      "Iteration:       280000\n",
      "Validation RMSE: 0.882146924112\n",
      "Test RMSE      : 0.886324377061\n",
      "Best validation error up to now !\n",
      "\n",
      "Iteration:       290000\n",
      "Validation RMSE: 0.879724204847\n",
      "Test RMSE      : 0.885038114314\n",
      "Best validation error up to now !\n",
      "\n",
      "Iteration:       300000\n",
      "Validation RMSE: 0.886782672815\n",
      "\n",
      "Iteration:       310000\n",
      "Validation RMSE: 0.881379022309\n",
      "\n",
      "Iteration:       320000\n",
      "Validation RMSE: 0.878372851224\n",
      "Test RMSE      : 0.882249586181\n",
      "Best validation error up to now !\n",
      "\n",
      "Iteration:       330000\n",
      "Validation RMSE: 0.880109268513\n",
      "\n",
      "Iteration:       340000\n",
      "Validation RMSE: 0.88023947279\n",
      "\n",
      "Iteration:       350000\n",
      "Validation RMSE: 0.878082077151\n",
      "Test RMSE      : 0.881454255946\n",
      "Best validation error up to now !\n",
      "\n",
      "Iteration:       360000\n",
      "Validation RMSE: 0.87709799297\n",
      "Test RMSE      : 0.880542542174\n",
      "Best validation error up to now !\n",
      "\n",
      "Iteration:       370000\n",
      "Validation RMSE: 0.880449704595\n",
      "\n",
      "Iteration:       380000\n",
      "Validation RMSE: 0.880478073489\n",
      "\n",
      "Iteration:       390000\n",
      "Validation RMSE: 0.882826631389\n",
      "\n",
      "Iteration:       400000\n",
      "Validation RMSE: 0.878828228396\n",
      "\n",
      "Iteration:       410000\n",
      "Validation RMSE: 0.881409654412\n",
      "\n",
      "Iteration:       420000\n",
      "Validation RMSE: 0.88295830025\n",
      "\n",
      "Iteration:       430000\n",
      "Validation RMSE: 0.876200891964\n",
      "Test RMSE      : 0.877894495014\n",
      "Best validation error up to now !\n",
      "\n",
      "Iteration:       440000\n",
      "Validation RMSE: 0.882203320068\n",
      "\n",
      "Iteration:       450000\n",
      "Validation RMSE: 0.877598717383\n",
      "\n",
      "Iteration:       460000\n",
      "Validation RMSE: 0.875014937029\n",
      "Test RMSE      : 0.876092080027\n",
      "Best validation error up to now !\n",
      "\n",
      "Iteration:       470000\n",
      "Validation RMSE: 0.873845204851\n",
      "Test RMSE      : 0.875290792727\n",
      "Best validation error up to now !\n",
      "\n",
      "Iteration:       480000\n",
      "Validation RMSE: 0.881661674308\n",
      "\n",
      "Iteration:       490000\n",
      "Validation RMSE: 0.873938155266\n",
      "\n",
      "Iteration:       500000\n",
      "Validation RMSE: 0.879095248356\n",
      "\n",
      "Iteration:       510000\n",
      "Validation RMSE: 0.877616701578\n",
      "\n",
      "Iteration:       520000\n",
      "Validation RMSE: 0.880628106326\n",
      "\n",
      "Iteration:       530000\n",
      "Validation RMSE: 0.873075112313\n",
      "Test RMSE      : 0.874951186637\n",
      "Best validation error up to now !\n",
      "\n",
      "Iteration:       540000\n",
      "Validation RMSE: 0.872737301323\n",
      "Test RMSE      : 0.874836672948\n",
      "Best validation error up to now !\n",
      "\n",
      "Iteration:       550000\n",
      "Validation RMSE: 0.871579317388\n",
      "Test RMSE      : 0.873996822166\n",
      "Best validation error up to now !\n",
      "\n",
      "Iteration:       560000\n",
      "Validation RMSE: 0.870897632321\n",
      "Test RMSE      : 0.874459248442\n",
      "Best validation error up to now !\n",
      "\n",
      "Iteration:       570000\n",
      "Validation RMSE: 0.873827856779\n",
      "\n",
      "Iteration:       580000\n",
      "Validation RMSE: 0.871989799449\n",
      "\n",
      "Iteration:       590000\n",
      "Validation RMSE: 0.879258168891\n",
      "\n",
      "Iteration:       600000\n",
      "Validation RMSE: 0.86983213755\n",
      "Test RMSE      : 0.872607545601\n",
      "Best validation error up to now !\n",
      "\n",
      "Iteration:       610000\n",
      "Validation RMSE: 0.871413593895\n",
      "\n",
      "Iteration:       620000\n",
      "Validation RMSE: 0.870476871795\n",
      "\n",
      "Iteration:       630000\n",
      "Validation RMSE: 0.872680131764\n",
      "\n",
      "Iteration:       640000\n",
      "Validation RMSE: 0.876605693939\n",
      "\n",
      "Iteration:       650000\n",
      "Validation RMSE: 0.87432091913\n",
      "\n",
      "Iteration:       660000\n",
      "Validation RMSE: 0.869364974723\n",
      "Test RMSE      : 0.872091163043\n",
      "Best validation error up to now !\n",
      "\n",
      "Iteration:       670000\n",
      "Validation RMSE: 0.875768161001\n",
      "\n",
      "Iteration:       680000\n",
      "Validation RMSE: 0.874047275039\n",
      "\n",
      "Iteration:       690000\n",
      "Validation RMSE: 0.868970820401\n",
      "Test RMSE      : 0.870410086672\n",
      "Best validation error up to now !\n",
      "\n",
      "Iteration:       700000\n",
      "Validation RMSE: 0.870407558348\n",
      "\n",
      "Iteration:       710000\n",
      "Validation RMSE: 0.870715259794\n",
      "\n",
      "Iteration:       720000\n",
      "Validation RMSE: 0.874938306634\n",
      "\n",
      "Iteration:       730000\n",
      "Validation RMSE: 0.868793106777\n",
      "Test RMSE      : 0.870779356927\n",
      "Best validation error up to now !\n",
      "\n",
      "Iteration:       740000\n",
      "Validation RMSE: 0.869744802626\n",
      "\n",
      "Iteration:       750000\n",
      "Validation RMSE: 0.869256384243\n",
      "\n",
      "Iteration:       760000\n",
      "Validation RMSE: 0.868788102422\n",
      "Test RMSE      : 0.870308518595\n",
      "Best validation error up to now !\n",
      "\n",
      "Iteration:       770000\n",
      "Validation RMSE: 0.868870443349\n",
      "\n",
      "Iteration:       780000\n",
      "Validation RMSE: 0.870575592672\n",
      "\n",
      "Iteration:       790000\n",
      "Validation RMSE: 0.8685417859\n",
      "Test RMSE      : 0.870971476591\n",
      "Best validation error up to now !\n",
      "\n",
      "Iteration:       800000\n",
      "Validation RMSE: 0.869649692678\n",
      "\n",
      "Iteration:       810000\n",
      "Validation RMSE: 0.868517932773\n",
      "Test RMSE      : 0.870047187424\n",
      "Best validation error up to now !\n",
      "\n",
      "Iteration:       820000\n",
      "Validation RMSE: 0.873956832455\n",
      "\n",
      "Iteration:       830000\n",
      "Validation RMSE: 0.869293309611\n",
      "\n",
      "Iteration:       840000\n",
      "Validation RMSE: 0.868781097616\n",
      "\n",
      "Iteration:       850000\n",
      "Validation RMSE: 0.868504971285\n",
      "Test RMSE      : 0.869466254532\n",
      "Best validation error up to now !\n",
      "\n",
      "Iteration:       860000\n",
      "Validation RMSE: 0.86900978396\n",
      "\n",
      "Iteration:       870000\n",
      "Validation RMSE: 0.869153286603\n",
      "\n",
      "Iteration:       880000\n",
      "Validation RMSE: 0.870948890755\n",
      "\n",
      "Iteration:       890000\n",
      "Validation RMSE: 0.866938982573\n",
      "Test RMSE      : 0.868265955744\n",
      "Best validation error up to now !\n",
      "\n",
      "Iteration:       900000\n",
      "Validation RMSE: 0.86897773564\n",
      "\n",
      "Iteration:       910000\n",
      "Validation RMSE: 0.867677157794\n",
      "\n",
      "Iteration:       920000\n",
      "Validation RMSE: 0.870405419807\n",
      "\n",
      "Iteration:       930000\n",
      "Validation RMSE: 0.868181887346\n",
      "\n",
      "Iteration:       940000\n",
      "Validation RMSE: 0.867887531208\n",
      "\n",
      "Iteration:       950000\n",
      "Validation RMSE: 0.868938373484\n",
      "\n",
      "Iteration:       960000\n",
      "Validation RMSE: 0.867537024746\n",
      "\n",
      "Iteration:       970000\n",
      "Validation RMSE: 0.868423799751\n",
      "\n",
      "Iteration:       980000\n",
      "Validation RMSE: 0.871770047883\n",
      "\n",
      "Iteration:       990000\n",
      "Validation RMSE: 0.866133036951\n",
      "Test RMSE      : 0.869131801686\n",
      "Best validation error up to now !\n",
      "\n",
      "Iteration:       1000000\n",
      "Validation RMSE: 0.865900495899\n",
      "Test RMSE      : 0.867381591029\n",
      "Best validation error up to now !\n",
      "\n",
      "Iteration:       1010000\n",
      "Validation RMSE: 0.867384357544\n",
      "\n",
      "Iteration:       1020000\n",
      "Validation RMSE: 0.866135703778\n",
      "\n",
      "Iteration:       1030000\n",
      "Validation RMSE: 0.870888935345\n",
      "\n",
      "Iteration:       1040000\n",
      "Validation RMSE: 0.868008095727\n",
      "\n",
      "Iteration:       1050000\n",
      "Validation RMSE: 0.870820121017\n",
      "\n",
      "Iteration:       1060000\n",
      "Validation RMSE: 0.865300106677\n",
      "Test RMSE      : 0.866431161495\n",
      "Best validation error up to now !\n",
      "\n",
      "Iteration:       1070000\n",
      "Validation RMSE: 0.865627782588\n",
      "\n",
      "Iteration:       1080000\n",
      "Validation RMSE: 0.864612174577\n",
      "Test RMSE      : 0.86732716114\n",
      "Best validation error up to now !\n",
      "\n",
      "Iteration:       1090000\n",
      "Validation RMSE: 0.865726601351\n",
      "\n",
      "Iteration:       1100000\n",
      "Validation RMSE: 0.865213147639\n",
      "\n",
      "Iteration:       1110000\n",
      "Validation RMSE: 0.867167603119\n",
      "\n",
      "Iteration:       1120000\n",
      "Validation RMSE: 0.865479727758\n",
      "\n",
      "Iteration:       1130000\n",
      "Validation RMSE: 0.866189089804\n",
      "\n",
      "Iteration:       1140000\n",
      "Validation RMSE: 0.865445661154\n",
      "\n",
      "Iteration:       1150000\n",
      "Validation RMSE: 0.86987140431\n",
      "\n",
      "Iteration:       1160000\n",
      "Validation RMSE: 0.864792744358\n",
      "\n",
      "Iteration:       1170000\n",
      "Validation RMSE: 0.865606533759\n",
      "\n",
      "Iteration:       1180000\n",
      "Validation RMSE: 0.865082625382\n",
      "\n",
      "Iteration:       1190000\n",
      "Validation RMSE: 0.866717830535\n",
      "\n",
      "Iteration:       1200000\n",
      "Validation RMSE: 0.864776057406\n",
      "\n",
      "Iteration:       1210000\n",
      "Validation RMSE: 0.86311735784\n",
      "Test RMSE      : 0.865555199783\n",
      "Best validation error up to now !\n",
      "\n",
      "Iteration:       1220000\n",
      "Validation RMSE: 0.864136797329\n",
      "\n",
      "Iteration:       1230000\n",
      "Validation RMSE: 0.864205644216\n",
      "\n",
      "Iteration:       1240000\n",
      "Validation RMSE: 0.864666785777\n",
      "\n",
      "Iteration:       1250000\n",
      "Validation RMSE: 0.864461784611\n",
      "\n",
      "Iteration:       1260000\n",
      "Validation RMSE: 0.863180227976\n",
      "\n",
      "Iteration:       1270000\n",
      "Validation RMSE: 0.867565165138\n",
      "\n",
      "Iteration:       1280000\n",
      "Validation RMSE: 0.866203010363\n",
      "\n",
      "Iteration:       1290000\n",
      "Validation RMSE: 0.866230664854\n",
      "\n",
      "Iteration:       1300000\n",
      "Validation RMSE: 0.864042964136\n",
      "\n",
      "Iteration:       1310000\n",
      "Validation RMSE: 0.864402897891\n",
      "\n",
      "Iteration:       1320000\n",
      "Validation RMSE: 0.864457427721\n",
      "\n",
      "Iteration:       1330000\n",
      "Validation RMSE: 0.865406120504\n",
      "\n",
      "Iteration:       1340000\n",
      "Validation RMSE: 0.864427530739\n",
      "\n",
      "Iteration:       1350000\n",
      "Validation RMSE: 0.863838910029\n",
      "\n",
      "Iteration:       1360000\n",
      "Validation RMSE: 0.863836236975\n",
      "\n",
      "Iteration:       1370000\n",
      "Validation RMSE: 0.863111429622\n",
      "Test RMSE      : 0.863411287119\n",
      "Best validation error up to now !\n",
      "\n",
      "Iteration:       1380000\n",
      "Validation RMSE: 0.863217412933\n",
      "\n",
      "Iteration:       1390000\n",
      "Validation RMSE: 0.863719112534\n",
      "\n",
      "Iteration:       1400000\n",
      "Validation RMSE: 0.870484643794\n",
      "\n",
      "Iteration:       1410000\n",
      "Validation RMSE: 0.864234567618\n",
      "\n",
      "Iteration:       1420000\n",
      "Validation RMSE: 0.861930432449\n",
      "Test RMSE      : 0.862480687245\n",
      "Best validation error up to now !\n",
      "\n",
      "Iteration:       1430000\n",
      "Validation RMSE: 0.861628629497\n",
      "Test RMSE      : 0.863002477672\n",
      "Best validation error up to now !\n",
      "\n",
      "Iteration:       1440000\n",
      "Validation RMSE: 0.867850526992\n",
      "\n",
      "Iteration:       1450000\n",
      "Validation RMSE: 0.861885792438\n",
      "\n",
      "Iteration:       1460000\n",
      "Validation RMSE: 0.861483068456\n",
      "Test RMSE      : 0.862876448477\n",
      "Best validation error up to now !\n",
      "\n",
      "Iteration:       1470000\n",
      "Validation RMSE: 0.86177140429\n",
      "\n",
      "Iteration:       1480000\n",
      "Validation RMSE: 0.867014193857\n",
      "\n",
      "Iteration:       1490000\n",
      "Validation RMSE: 0.863793886613\n",
      "\n",
      "Iteration:       1500000\n",
      "Validation RMSE: 0.867583138752\n",
      "\n",
      "Iteration:       1510000\n",
      "Validation RMSE: 0.862960104974\n",
      "\n",
      "Iteration:       1520000\n",
      "Validation RMSE: 0.861351716764\n",
      "Test RMSE      : 0.862601581264\n",
      "Best validation error up to now !\n",
      "\n",
      "Iteration:       1530000\n",
      "Validation RMSE: 0.861467257701\n",
      "\n",
      "Iteration:       1540000\n",
      "Validation RMSE: 0.861625732652\n",
      "\n",
      "Iteration:       1550000\n",
      "Validation RMSE: 0.86135565316\n",
      "\n",
      "Iteration:       1560000\n",
      "Validation RMSE: 0.864268321633\n",
      "\n",
      "Iteration:       1570000\n",
      "Validation RMSE: 0.862209308853\n",
      "\n",
      "Iteration:       1580000\n",
      "Validation RMSE: 0.863465163866\n",
      "\n",
      "Iteration:       1590000\n",
      "Validation RMSE: 0.864841325793\n",
      "\n",
      "Iteration:       1600000\n",
      "Validation RMSE: 0.869556952658\n",
      "\n",
      "Iteration:       1610000\n",
      "Validation RMSE: 0.864435720358\n",
      "\n",
      "Iteration:       1620000\n",
      "Validation RMSE: 0.861634634605\n",
      "\n",
      "Iteration:       1630000\n",
      "Validation RMSE: 0.864061483417\n",
      "\n",
      "Iteration:       1640000\n",
      "Validation RMSE: 0.86478940266\n",
      "\n",
      "Iteration:       1650000\n",
      "Validation RMSE: 0.863062214946\n",
      "\n",
      "Iteration:       1660000\n",
      "Validation RMSE: 0.86328450711\n",
      "\n",
      "Iteration:       1670000\n",
      "Validation RMSE: 0.866705715767\n",
      "\n",
      "Iteration:       1680000\n",
      "Validation RMSE: 0.862200967128\n",
      "\n",
      "Iteration:       1690000\n",
      "Validation RMSE: 0.860752273833\n",
      "Test RMSE      : 0.862896000995\n",
      "Best validation error up to now !\n",
      "\n",
      "Iteration:       1700000\n",
      "Validation RMSE: 0.861357891048\n",
      "\n",
      "Iteration:       1710000\n",
      "Validation RMSE: 0.862031954374\n",
      "\n",
      "Iteration:       1720000\n",
      "Validation RMSE: 0.860075473675\n",
      "Test RMSE      : 0.861158858978\n",
      "Best validation error up to now !\n",
      "\n",
      "Iteration:       1730000\n",
      "Validation RMSE: 0.861413589498\n",
      "\n",
      "Iteration:       1740000\n",
      "Validation RMSE: 0.860394098379\n",
      "\n",
      "Iteration:       1750000\n",
      "Validation RMSE: 0.863232373072\n",
      "\n",
      "Iteration:       1760000\n",
      "Validation RMSE: 0.862395310164\n",
      "\n",
      "Iteration:       1770000\n",
      "Validation RMSE: 0.860898457215\n",
      "\n",
      "Iteration:       1780000\n",
      "Validation RMSE: 0.861681212347\n",
      "\n",
      "Iteration:       1790000\n",
      "Validation RMSE: 0.862065202719\n",
      "\n",
      "Iteration:       1800000\n",
      "Validation RMSE: 0.860102836364\n",
      "\n",
      "Iteration:       1810000\n",
      "Validation RMSE: 0.861401239789\n",
      "\n",
      "Iteration:       1820000\n",
      "Validation RMSE: 0.862691412108\n",
      "\n",
      "Iteration:       1830000\n",
      "Validation RMSE: 0.859658627484\n",
      "Test RMSE      : 0.860781990631\n",
      "Best validation error up to now !\n",
      "\n",
      "Iteration:       1840000\n",
      "Validation RMSE: 0.859388100984\n",
      "Test RMSE      : 0.859656810808\n",
      "Best validation error up to now !\n",
      "\n",
      "Iteration:       1850000\n",
      "Validation RMSE: 0.868370454461\n",
      "\n",
      "Iteration:       1860000\n",
      "Validation RMSE: 0.859690056348\n",
      "\n",
      "Iteration:       1870000\n",
      "Validation RMSE: 0.859909244661\n",
      "\n",
      "Iteration:       1880000\n",
      "Validation RMSE: 0.861269879267\n",
      "\n",
      "Iteration:       1890000\n",
      "Validation RMSE: 0.859727414426\n",
      "\n",
      "Iteration:       1900000\n",
      "Validation RMSE: 0.859723957387\n",
      "\n",
      "Iteration:       1910000\n",
      "Validation RMSE: 0.860108696658\n",
      "\n",
      "Iteration:       1920000\n",
      "Validation RMSE: 0.861415796839\n",
      "\n",
      "Iteration:       1930000\n",
      "Validation RMSE: 0.861305336304\n",
      "\n",
      "Iteration:       1940000\n",
      "Validation RMSE: 0.858936587313\n",
      "Test RMSE      : 0.858981905251\n",
      "Best validation error up to now !\n",
      "\n",
      "Iteration:       1950000\n",
      "Validation RMSE: 0.859686271366\n",
      "\n",
      "Iteration:       1960000\n",
      "Validation RMSE: 0.864651365661\n",
      "\n",
      "Iteration:       1970000\n",
      "Validation RMSE: 0.858128927498\n",
      "Test RMSE      : 0.858035452498\n",
      "Best validation error up to now !\n",
      "\n",
      "Iteration:       1980000\n",
      "Validation RMSE: 0.858184428086\n",
      "\n",
      "Iteration:       1990000\n",
      "Validation RMSE: 0.86533903667\n",
      "\n",
      "Iteration:       2000000\n",
      "Validation RMSE: 0.85737679736\n",
      "Test RMSE      : 0.857626288453\n",
      "Best validation error up to now !\n",
      "\n",
      "Iteration:       2010000\n",
      "Validation RMSE: 0.857472122029\n",
      "\n",
      "Iteration:       2020000\n",
      "Validation RMSE: 0.858905042909\n",
      "\n",
      "Iteration:       2030000\n",
      "Validation RMSE: 0.859501766827\n",
      "\n",
      "Iteration:       2040000\n",
      "Validation RMSE: 0.858454936147\n",
      "\n",
      "Iteration:       2050000\n",
      "Validation RMSE: 0.858690399531\n",
      "\n",
      "Iteration:       2060000\n",
      "Validation RMSE: 0.856838631319\n",
      "Test RMSE      : 0.857686688777\n",
      "Best validation error up to now !\n",
      "\n",
      "Iteration:       2070000\n",
      "Validation RMSE: 0.85780861807\n",
      "\n",
      "Iteration:       2080000\n",
      "Validation RMSE: 0.86133349743\n",
      "\n",
      "Iteration:       2090000\n",
      "Validation RMSE: 0.85710182233\n",
      "\n",
      "Iteration:       2100000\n",
      "Validation RMSE: 0.856685516651\n",
      "Test RMSE      : 0.857110499403\n",
      "Best validation error up to now !\n",
      "\n",
      "Iteration:       2110000\n",
      "Validation RMSE: 0.855755253683\n",
      "Test RMSE      : 0.856369783573\n",
      "Best validation error up to now !\n",
      "\n",
      "Iteration:       2120000\n",
      "Validation RMSE: 0.855916915533\n",
      "\n",
      "Iteration:       2130000\n",
      "Validation RMSE: 0.8564126616\n",
      "\n",
      "Iteration:       2140000\n",
      "Validation RMSE: 0.866566402246\n",
      "\n",
      "Iteration:       2150000\n",
      "Validation RMSE: 0.85678638485\n",
      "\n",
      "Iteration:       2160000\n",
      "Validation RMSE: 0.858547551563\n",
      "\n",
      "Iteration:       2170000\n",
      "Validation RMSE: 0.856235383237\n",
      "\n",
      "Iteration:       2180000\n",
      "Validation RMSE: 0.85901127565\n",
      "\n",
      "Iteration:       2190000\n",
      "Validation RMSE: 0.8568525684\n",
      "\n",
      "Iteration:       2200000\n",
      "Validation RMSE: 0.856950764008\n",
      "\n",
      "Iteration:       2210000\n",
      "Validation RMSE: 0.856367550304\n",
      "\n",
      "Iteration:       2220000\n",
      "Validation RMSE: 0.861694482357\n",
      "\n",
      "Iteration:       2230000\n",
      "Validation RMSE: 0.856834705263\n",
      "\n",
      "Iteration:       2240000\n",
      "Validation RMSE: 0.856620070167\n",
      "\n",
      "Iteration:       2250000\n",
      "Validation RMSE: 0.856929668741\n",
      "\n",
      "Iteration:       2260000\n",
      "Validation RMSE: 0.857059162014\n",
      "\n",
      "Iteration:       2270000\n",
      "Validation RMSE: 0.857375379602\n",
      "\n",
      "Iteration:       2280000\n",
      "Validation RMSE: 0.855989309723\n",
      "\n",
      "Iteration:       2290000\n",
      "Validation RMSE: 0.858130622375\n",
      "\n",
      "Iteration:       2300000\n",
      "Validation RMSE: 0.859363761698\n",
      "\n",
      "Iteration:       2310000\n",
      "Validation RMSE: 0.85650021851\n",
      "Exceed patience for optimization, stopping!\n",
      "Optimization time :  4.67623333534 minutes\n"
     ]
    }
   ],
   "source": [
    "start_time = time.time()\n",
    "\n",
    "while True:\n",
    "    try:\n",
    "        if sgd_iteration_count%update_frequency == 0:\n",
    "            train_set_rmse = get_trainset_rmse()\n",
    "            valid_set_rmse = get_validset_rmse()\n",
    "            test_set_rmse = get_testset_rmse()\n",
    "            \n",
    "            train_errors.append(train_set_rmse)\n",
    "            valid_errors.append(valid_set_rmse)\n",
    "            test_errors.append(test_set_rmse)\n",
    "            \n",
    "            print 'Iteration:      ', sgd_iteration_count\n",
    "            print 'Validation RMSE:', valid_set_rmse\n",
    "\n",
    "            if valid_set_rmse < best_validation_rmse:\n",
    "                print 'Test RMSE      :', test_set_rmse\n",
    "                print 'Best validation error up to now !'\n",
    "                patience = 0\n",
    "                best_validation_rmse = valid_set_rmse\n",
    "                best_parameters = model.save_parameters()\n",
    "            else:\n",
    "                patience += 1\n",
    "                if patience >= 20:\n",
    "                    print 'Exceed patience for optimization, stopping!'\n",
    "                    break\n",
    "            print\n",
    "        training_idx = sample_random_training_index()\n",
    "        user, item, rating = train_ratings[training_idx]\n",
    "        model.update_parameters(user, item, rating)\n",
    "        sgd_iteration_count += 1\n",
    "    except KeyboardInterrupt:\n",
    "        print 'Stopped Optimization'\n",
    "        print 'Current valid set performance=%s' % compute_rmse(model.predict(*valid_ratings.T[:2]), valid_ratings[:,2])\n",
    "        print 'Current test set performance=%s' % compute_rmse(model.predict(*test_ratings.T[:2]), test_ratings[:,2])\n",
    "        break\n",
    "        \n",
    "model.load_parameters(best_parameters)\n",
    "stop_time = time.time()\n",
    "\n",
    "print 'Optimization time : ', (stop_time - start_time)/60., 'minutes'"
   ]
  },
  {
   "cell_type": "markdown",
   "metadata": {},
   "source": [
    "### How much should be wait? \n",
    "### How good is the model? \n",
    "### Is the optimization ok?\n",
    "\n",
    "### Lets first try to answer some of these questions by looking at the so-called learning curve"
   ]
  },
  {
   "cell_type": "code",
   "execution_count": 17,
   "metadata": {
    "collapsed": false
   },
   "outputs": [
    {
     "data": {
      "text/plain": [
       "<matplotlib.legend.Legend at 0xc3fb048>"
      ]
     },
     "execution_count": 17,
     "metadata": {},
     "output_type": "execute_result"
    },
    {
     "data": {
      "image/png": "[encoded data removed]",
      "text/plain": [
       "<matplotlib.figure.Figure at 0xc633f60>"
      ]
     },
     "metadata": {},
     "output_type": "display_data"
    }
   ],
   "source": [
    "x = update_frequency * np.arange(len(train_errors))\n",
    "fig = plt.figure(num=None, figsize=(10, 10), dpi=500)\n",
    "plt.plot(x, train_errors, 'r--', x, valid_errors, 'bs', x, test_errors, 'g^')\n",
    "plt.legend(['training error', 'validation error', 'testing error'])"
   ]
  },
  {
   "cell_type": "markdown",
   "metadata": {},
   "source": [
    "### We can see that most of the learning is done early during the optimization. But better results can be achieved by waiting a bit.\n",
    "\n",
    "### Training error will always be lower than validation and testing error. When the difference is too great we call this \"overfitting\".\n",
    "\n",
    "- #### Bigger embedding size can lead to more overfitting. \n",
    "- #### Smaller size will overfit less, but may perform more poorly on the test set. The best is somewhere in between...\n",
    "\n",
    "### There are also many other things we can do to improve the performance and \"generalization\":\n",
    "\n",
    "- #### Regularization : forcing embeddings to be smaller, so that its harder to overfit. Different coefficients for user/item bias and embedding.\n",
    "- #### Learning rate reduction : reducing the learning rate in the later stages of training can help.\n",
    "- #### Implicit feedback : use who rated what information, without the rating value\n",
    "- #### Tuning all the hyperparameters of the model (learning rate, embedding size, regularization, ...)\n",
    "- #### And many many more...\n"
   ]
  },
  {
   "cell_type": "markdown",
   "metadata": {},
   "source": [
    "# <center><font color=\"blue\">Evaluation!</font></center>"
   ]
  },
  {
   "cell_type": "markdown",
   "metadata": {},
   "source": [
    "### Now that we have a model, how do we evaluate it, and more importantly, how do we use it?"
   ]
  },
  {
   "cell_type": "code",
   "execution_count": 18,
   "metadata": {
    "collapsed": false,
    "scrolled": true
   },
   "outputs": [
    {
     "data": {
      "text/html": [
       "<div>\n",
       "<table border=\"1\" class=\"dataframe\">\n",
       "  <thead>\n",
       "    <tr style=\"text-align: right;\">\n",
       "      <th></th>\n",
       "      <th>movieId</th>\n",
       "      <th>prediction</th>\n",
       "      <th>rating</th>\n",
       "      <th>userId</th>\n",
       "    </tr>\n",
       "  </thead>\n",
       "  <tbody>\n",
       "    <tr>\n",
       "      <th>0</th>\n",
       "      <td>63481</td>\n",
       "      <td>3.066462</td>\n",
       "      <td>3.5</td>\n",
       "      <td>475</td>\n",
       "    </tr>\n",
       "    <tr>\n",
       "      <th>1</th>\n",
       "      <td>1259</td>\n",
       "      <td>4.440009</td>\n",
       "      <td>4.5</td>\n",
       "      <td>519</td>\n",
       "    </tr>\n",
       "    <tr>\n",
       "      <th>2</th>\n",
       "      <td>593</td>\n",
       "      <td>4.378019</td>\n",
       "      <td>5.0</td>\n",
       "      <td>326</td>\n",
       "    </tr>\n",
       "    <tr>\n",
       "      <th>3</th>\n",
       "      <td>54775</td>\n",
       "      <td>2.339565</td>\n",
       "      <td>1.5</td>\n",
       "      <td>668</td>\n",
       "    </tr>\n",
       "    <tr>\n",
       "      <th>4</th>\n",
       "      <td>3752</td>\n",
       "      <td>2.915842</td>\n",
       "      <td>1.0</td>\n",
       "      <td>468</td>\n",
       "    </tr>\n",
       "  </tbody>\n",
       "</table>\n",
       "</div>"
      ],
      "text/plain": [
       "   movieId  prediction  rating  userId\n",
       "0    63481    3.066462     3.5     475\n",
       "1     1259    4.440009     4.5     519\n",
       "2      593    4.378019     5.0     326\n",
       "3    54775    2.339565     1.5     668\n",
       "4     3752    2.915842     1.0     468"
      ]
     },
     "execution_count": 18,
     "metadata": {},
     "output_type": "execute_result"
    }
   ],
   "source": [
    "test_predictions = model.predict(*test_ratings.T[:2])\n",
    "test_df = pd.DataFrame({'userId': test_ratings[:, 0],\n",
    "                        'movieId': test_ratings[:, 1],\n",
    "                        'rating': test_ratings[:, 2],\n",
    "                        'prediction': test_predictions})\n",
    "test_df.head()"
   ]
  },
  {
   "cell_type": "markdown",
   "metadata": {
    "collapsed": true
   },
   "source": [
    "## Standard error metrics for global performance of test set"
   ]
  },
  {
   "cell_type": "code",
   "execution_count": 19,
   "metadata": {
    "collapsed": false
   },
   "outputs": [
    {
     "name": "stdout",
     "output_type": "stream",
     "text": [
      "Root Mean Squared Error\t\t0.856369783573\n",
      "Mean Absolute Error\t\t0.661424603843\n",
      "Mean Absolute Percentile Error\t28.5558836737 %\n"
     ]
    }
   ],
   "source": [
    "print 'Root Mean Squared Error\\t\\t', ((test_df.rating - test_df.prediction)**2).mean()**0.5\n",
    "print 'Mean Absolute Error\\t\\t', (test_df.rating - test_df.prediction).abs().mean()\n",
    "print 'Mean Absolute Percentile Error\\t', 100*((test_df.rating - test_df.prediction).abs() / test_df.rating).mean(), '%'"
   ]
  },
  {
   "cell_type": "code",
   "execution_count": 20,
   "metadata": {
    "collapsed": false
   },
   "outputs": [
    {
     "data": {
      "text/plain": [
       "<matplotlib.text.Text at 0xcd10b38>"
      ]
     },
     "execution_count": 20,
     "metadata": {},
     "output_type": "execute_result"
    },
    {
     "data": {
      "image/png": "[encoded data removed]",
      "text/plain": [
       "<matplotlib.figure.Figure at 0xbb42ef0>"
      ]
     },
     "metadata": {},
     "output_type": "display_data"
    }
   ],
   "source": [
    "plt.plot(*test_df.groupby('rating').prediction.mean().reset_index().values.T)\n",
    "plt.plot(np.arange(0, 6), np.arange(0, 6), '--')\n",
    "plt.xlim([0.5, 5])\n",
    "plt.ylim([0.5, 5])\n",
    "plt.xlabel('True Rating')\n",
    "plt.ylabel('Mean Predicted Rating')\n",
    "# the model is a bit more conservative, this is normal"
   ]
  },
  {
   "cell_type": "markdown",
   "metadata": {},
   "source": [
    "## Top-k metrics - precision @ top k across users"
   ]
  },
  {
   "cell_type": "code",
   "execution_count": 21,
   "metadata": {
    "collapsed": false
   },
   "outputs": [],
   "source": [
    "best_predicted_rating_per_user = test_df.groupby('userId').apply(lambda x: x.sort_values('prediction', ascending=False).head(1).rating)"
   ]
  },
  {
   "cell_type": "code",
   "execution_count": 22,
   "metadata": {
    "collapsed": true
   },
   "outputs": [],
   "source": [
    "best_rating_per_user = test_df.groupby('userId').apply(lambda x: x.sort_values('rating', ascending=False).head(1).rating)"
   ]
  },
  {
   "cell_type": "code",
   "execution_count": 23,
   "metadata": {
    "collapsed": false
   },
   "outputs": [],
   "source": [
    "mean_rating_per_user = test_df.groupby('userId').rating.mean()"
   ]
  },
  {
   "cell_type": "code",
   "execution_count": 24,
   "metadata": {
    "collapsed": false
   },
   "outputs": [
    {
     "name": "stdout",
     "output_type": "stream",
     "text": [
      "Best rating per user\t\t4.7263868066\n",
      "Best predicted rating per user\t4.14917541229\n",
      "Best mean rating per user\t3.6592404732\n"
     ]
    }
   ],
   "source": [
    "# Best rating per user - Best possible performance\n",
    "print 'Best rating per user\\t\\t', best_rating_per_user.mean()\n",
    "# Best predicted rating per user\n",
    "print 'Best predicted rating per user\\t', best_predicted_rating_per_user.mean()\n",
    "# Random or average performance - Used as baseline\n",
    "print 'Best mean rating per user\\t', mean_rating_per_user.mean()"
   ]
  },
  {
   "cell_type": "code",
   "execution_count": 43,
   "metadata": {
    "collapsed": false
   },
   "outputs": [
    {
     "data": {
      "text/plain": [
       "0.4817591204397799"
      ]
     },
     "execution_count": 43,
     "metadata": {},
     "output_type": "execute_result"
    }
   ],
   "source": [
    "# Precision across users\n",
    "def precision(x, y):\n",
    "    return float(len((set(x) & set(y)))) / len(y)\n",
    "\n",
    "test_df.groupby('userId').apply(lambda x: precision(x.sort_values('rating').tail(3).movieId, \n",
    "                                                    x.sort_values('prediction').tail(3).movieId)).mean()"
   ]
  },
  {
   "cell_type": "markdown",
   "metadata": {},
   "source": [
    "## There are as many performance metrics as you can imagine."
   ]
  },
  {
   "cell_type": "markdown",
   "metadata": {},
   "source": [
    "# But the most important is... <font color=\"red\">business validation</font>!\n",
    "- ## Looking at how the model will behave in practice"
   ]
  },
  {
   "cell_type": "markdown",
   "metadata": {},
   "source": [
    "## One way of looking at embeddings is comparing them together"
   ]
  },
  {
   "cell_type": "code",
   "execution_count": 26,
   "metadata": {
    "collapsed": false
   },
   "outputs": [],
   "source": [
    "movies_embeddings = dict([(i, model.V[i]) for i in movies.index.values])\n",
    "\n",
    "def compute_cosine_similarity(movieId):\n",
    "    movie_embedding = movies_embeddings[movieId]\n",
    "    movie_embedding_norm = (movie_embedding**2).sum()**0.5\n",
    "    similarity = dict([(movie, ((movie_embedding*emb).sum()) / (((emb**2).sum()**0.5) * movie_embedding_norm))\n",
    "                              for (movie, emb) in movies_embeddings.iteritems()])\n",
    "    return  similarity\n",
    "\n",
    "def compute_euclidian_similarity(movieId):\n",
    "    movie_embedding = movies_embeddings[movieId]\n",
    "    similarity = dict([(movie, -((movie_embedding-emb)**2).sum()**0.5)\n",
    "                              for (movie, emb) in movies_embeddings.iteritems()])\n",
    "    return  similarity"
   ]
  },
  {
   "cell_type": "code",
   "execution_count": 27,
   "metadata": {
    "collapsed": false
   },
   "outputs": [
    {
     "data": {
      "text/html": [
       "<div>\n",
       "<table border=\"1\" class=\"dataframe\">\n",
       "  <thead>\n",
       "    <tr style=\"text-align: right;\">\n",
       "      <th></th>\n",
       "      <th>title</th>\n",
       "      <th>genres</th>\n",
       "    </tr>\n",
       "    <tr>\n",
       "      <th>movieId</th>\n",
       "      <th></th>\n",
       "      <th></th>\n",
       "    </tr>\n",
       "  </thead>\n",
       "  <tbody>\n",
       "    <tr>\n",
       "      <th>177</th>\n",
       "      <td>Lord of Illusions (1995)</td>\n",
       "      <td>Horror</td>\n",
       "    </tr>\n",
       "    <tr>\n",
       "      <th>2116</th>\n",
       "      <td>Lord of the Rings, The (1978)</td>\n",
       "      <td>Adventure|Animation|Children|Fantasy</td>\n",
       "    </tr>\n",
       "    <tr>\n",
       "      <th>3461</th>\n",
       "      <td>Lord of the Flies (1963)</td>\n",
       "      <td>Adventure|Drama|Thriller</td>\n",
       "    </tr>\n",
       "    <tr>\n",
       "      <th>3590</th>\n",
       "      <td>Lords of Flatbush, The (1974)</td>\n",
       "      <td>Comedy|Drama</td>\n",
       "    </tr>\n",
       "    <tr>\n",
       "      <th>4951</th>\n",
       "      <td>Lord of the Flies (1990)</td>\n",
       "      <td>Adventure|Drama|Thriller</td>\n",
       "    </tr>\n",
       "    <tr>\n",
       "      <th>4993</th>\n",
       "      <td>Lord of the Rings: The Fellowship of the Ring,...</td>\n",
       "      <td>Adventure|Fantasy</td>\n",
       "    </tr>\n",
       "    <tr>\n",
       "      <th>5952</th>\n",
       "      <td>Lord of the Rings: The Two Towers, The (2002)</td>\n",
       "      <td>Adventure|Fantasy</td>\n",
       "    </tr>\n",
       "    <tr>\n",
       "      <th>7153</th>\n",
       "      <td>Lord of the Rings: The Return of the King, The...</td>\n",
       "      <td>Action|Adventure|Drama|Fantasy</td>\n",
       "    </tr>\n",
       "    <tr>\n",
       "      <th>8852</th>\n",
       "      <td>Lord Jim (1965)</td>\n",
       "      <td>Adventure|Drama</td>\n",
       "    </tr>\n",
       "    <tr>\n",
       "      <th>33672</th>\n",
       "      <td>Lords of Dogtown (2005)</td>\n",
       "      <td>Action|Comedy|Drama</td>\n",
       "    </tr>\n",
       "    <tr>\n",
       "      <th>36529</th>\n",
       "      <td>Lord of War (2005)</td>\n",
       "      <td>Action|Crime|Drama|Thriller|War</td>\n",
       "    </tr>\n",
       "  </tbody>\n",
       "</table>\n",
       "</div>"
      ],
      "text/plain": [
       "                                                     title  \\\n",
       "movieId                                                      \n",
       "177                               Lord of Illusions (1995)   \n",
       "2116                         Lord of the Rings, The (1978)   \n",
       "3461                              Lord of the Flies (1963)   \n",
       "3590                         Lords of Flatbush, The (1974)   \n",
       "4951                              Lord of the Flies (1990)   \n",
       "4993     Lord of the Rings: The Fellowship of the Ring,...   \n",
       "5952         Lord of the Rings: The Two Towers, The (2002)   \n",
       "7153     Lord of the Rings: The Return of the King, The...   \n",
       "8852                                       Lord Jim (1965)   \n",
       "33672                              Lords of Dogtown (2005)   \n",
       "36529                                   Lord of War (2005)   \n",
       "\n",
       "                                       genres  \n",
       "movieId                                        \n",
       "177                                    Horror  \n",
       "2116     Adventure|Animation|Children|Fantasy  \n",
       "3461                 Adventure|Drama|Thriller  \n",
       "3590                             Comedy|Drama  \n",
       "4951                 Adventure|Drama|Thriller  \n",
       "4993                        Adventure|Fantasy  \n",
       "5952                        Adventure|Fantasy  \n",
       "7153           Action|Adventure|Drama|Fantasy  \n",
       "8852                          Adventure|Drama  \n",
       "33672                     Action|Comedy|Drama  \n",
       "36529         Action|Crime|Drama|Thriller|War  "
      ]
     },
     "execution_count": 27,
     "metadata": {},
     "output_type": "execute_result"
    }
   ],
   "source": [
    "movies[movies.title.str.startswith('Lord')]"
   ]
  },
  {
   "cell_type": "code",
   "execution_count": 28,
   "metadata": {
    "collapsed": false
   },
   "outputs": [
    {
     "name": "stdout",
     "output_type": "stream",
     "text": [
      "Closest\n",
      "1 Lord of the Rings: The Two Towers, The (2002) \tAdventure|Fantasy 1.0\n",
      "\n",
      "2 Lord of the Rings: The Return of the King, The (2003) \tAction|Adventure|Drama|Fantasy 0.794321967751\n",
      "\n",
      "3 Lord of the Rings: The Fellowship of the Ring, The (2001) \tAdventure|Fantasy 0.773535297395\n",
      "\n",
      "4 Harry Potter and the Prisoner of Azkaban (2004) \tAdventure|Fantasy|IMAX 0.750927449626\n",
      "\n",
      "5 Pirates of the Caribbean: The Curse of the Black Pearl (2003) \tAction|Adventure|Comedy|Fantasy 0.711502476615\n",
      "\n",
      "6 Harry Potter and the Chamber of Secrets (2002) \tAdventure|Fantasy 0.619884619124\n",
      "\n",
      "7 Gladiator (2000) \tAction|Adventure|Drama 0.58393294334\n",
      "\n",
      "8 Spider-Man 2 (2004) \tAction|Adventure|Sci-Fi|IMAX 0.571702932193\n",
      "\n",
      "9 X2: X-Men United (2003) \tAction|Adventure|Sci-Fi|Thriller 0.545154816763\n",
      "\n",
      "10 Mummy, The (1999) \tAction|Adventure|Comedy|Fantasy|Horror|Thriller 0.53327289373\n",
      "\n",
      "11 Avatar (2009) \tAction|Adventure|Sci-Fi|IMAX 0.512941573212\n",
      "\n",
      "12 Spider-Man (2002) \tAction|Adventure|Sci-Fi|Thriller 0.48545174159\n",
      "\n",
      "13 Passion of the Christ, The (2004) \tDrama 0.474279331163\n",
      "\n",
      "14 Harry Potter and the Goblet of Fire (2005) \tAdventure|Fantasy|Thriller|IMAX 0.469529224564\n",
      "\n",
      "15 Dark Knight, The (2008) \tAction|Crime|Drama|IMAX 0.466787644248\n",
      "\n",
      "Farthest\n",
      "15 Ray (2004)\n",
      "\tDrama -0.403000703637\n",
      "\n",
      "14 Into the Wild (2007)\n",
      "\tAction|Adventure|Drama -0.406349068957\n",
      "\n",
      "13 Crocodile Dundee in Los Angeles (2001)\n",
      "\tComedy|Drama -0.417405119853\n",
      "\n",
      "12 Dallas Buyers Club (2013)\n",
      "\tDrama -0.421226903077\n",
      "\n",
      "11 American Gangster (2007)\n",
      "\tCrime|Drama|Thriller -0.422043682622\n",
      "\n",
      "10 Black Mass (2015)\n",
      "\tCrime|Drama -0.430600515889\n",
      "\n",
      "9 My Big Fat Greek Wedding (2002)\n",
      "\tComedy|Romance -0.449945372397\n",
      "\n",
      "8 O Brother, Where Art Thou? (2000)\n",
      "\tAdventure|Comedy|Crime -0.454264695119\n",
      "\n",
      "7 Notebook, The (2004)\n",
      "\tDrama|Romance -0.466589245728\n",
      "\n",
      "6 Wrestler, The (2008)\n",
      "\tDrama -0.474930848194\n",
      "\n",
      "5 Dumb and Dumberer: When Harry Met Lloyd (2003)\n",
      "\tComedy -0.475216689902\n",
      "\n",
      "4 Help, The (2011)\n",
      "\tDrama -0.47603091717\n",
      "\n",
      "3 Contact (1997)\n",
      "\tDrama|Sci-Fi -0.510696454357\n",
      "\n",
      "2 Blood Diamond (2006)\n",
      "\tAction|Adventure|Crime|Drama|Thriller|War -0.51729753311\n",
      "\n",
      "1 Cold Mountain (2003)\n",
      "\tDrama|Romance|War -0.541125730773\n",
      "\n",
      "0 Million Dollar Baby (2004)\n",
      "\tDrama -0.562920993183\n",
      "\n"
     ]
    }
   ],
   "source": [
    "movieId = 5952 # lord of the rings\n",
    "# movieId = 1 # toy story\n",
    "\n",
    "\n",
    "sorted_movies = sorted(compute_cosine_similarity(movieId).items(), key = lambda x:x[1])\n",
    "# sorted_movies = sorted(compute_euclidian_similarity(movieId).items(), key = lambda x:x[1])\n",
    "\n",
    "print 'Closest'\n",
    "for i in range(1, 16):\n",
    "    id, sim = sorted_movies[-i]\n",
    "    print i, movies.loc[id].title, '\\t', movies.loc[id].genres, sim\n",
    "    print\n",
    "\n",
    "print 'Farthest'\n",
    "for i in range(15,-1,-1):\n",
    "    id, sim = sorted_movies[i]\n",
    "    print i, movies.loc[id].title\n",
    "    print '\\t', movies.loc[id].genres, sim\n",
    "    print"
   ]
  },
  {
   "cell_type": "markdown",
   "metadata": {
    "collapsed": true
   },
   "source": [
    "# Although this is one way, the real way would be to create user profiles yourself, and see what the system can recommend, maybe watch it yourself :)"
   ]
  },
  {
   "cell_type": "markdown",
   "metadata": {
    "collapsed": true
   },
   "source": [
    "# Useful links and sources\n",
    "- Main reference paper : https://datajobs.com/data-science-repo/Recommender-Systems-[Netflix].pdf\n",
    "- Netflix Prize solutions & papers published with the Netflix dataset \n",
    "- Collaborative Filtering Datasets : https://gist.github.com/entaroadun/1653794"
   ]
  },
  {
   "cell_type": "markdown",
   "metadata": {},
   "source": [
    "# Thank you!"
   ]
  },
  {
   "cell_type": "markdown",
   "metadata": {},
   "source": [
    "# Questions?"
   ]
  },
  {
   "cell_type": "code",
   "execution_count": null,
   "metadata": {
    "collapsed": true
   },
   "outputs": [],
   "source": []
  },
  {
   "cell_type": "code",
   "execution_count": null,
   "metadata": {
    "collapsed": true
   },
   "outputs": [],
   "source": []
  },
  {
   "cell_type": "code",
   "execution_count": null,
   "metadata": {
    "collapsed": true
   },
   "outputs": [],
   "source": []
  },
  {
   "cell_type": "code",
   "execution_count": null,
   "metadata": {
    "collapsed": true
   },
   "outputs": [],
   "source": [
    "# Old code"
   ]
  },
  {
   "cell_type": "code",
   "execution_count": 29,
   "metadata": {
    "collapsed": true
   },
   "outputs": [],
   "source": [
    "# import numpy as np\n",
    "# import pandas as pd\n",
    "# import warnings\n",
    "# warnings.filterwarnings('ignore')\n",
    "# np.random.seed(123)\n",
    "# data = pd.read_csv('ml-20m/ratings.csv')\n",
    "# movies = pd.read_csv('ml-20m/movies.csv')\n",
    "\n",
    "# top_rated_movies = data.groupby('movieId').rating.count().sort_values(ascending=False)\n",
    "# top_rating_users = data.groupby('userId').rating.count().sort_values(ascending=False)\n",
    "\n",
    "# top_rated_movies = top_rated_movies[top_rated_movies>500].index.values\n",
    "# top_rating_users = top_rating_users[top_rating_users>50].index.values\n",
    "\n",
    "# smaller_data = data[(data.movieId.isin(top_rated_movies)) & (data.userId.isin(top_rating_users))]\n",
    "# smaller_data.shape\n",
    "\n",
    "# # sample smaller dataset\n",
    "# smaller_data = smaller_data.reindex(np.random.permutation(smaller_data.index)).head(1500000)\n",
    "\n",
    "# movie_id_remapping = {}\n",
    "# user_id_remapping = {}\n",
    "    \n",
    "# def remap_movie_id(i):\n",
    "#     if not i in movie_id_remapping:\n",
    "#         movie_id_remapping[i] = len(movie_id_remapping)\n",
    "#     return movie_id_remapping[i]\n",
    "\n",
    "# def remap_user_id(i):\n",
    "#     if not i in user_id_remapping:\n",
    "#         user_id_remapping[i] = len(user_id_remapping)\n",
    "#     return user_id_remapping[i]\n",
    "\n",
    "# smaller_data.movieId = smaller_data.movieId.apply(remap_movie_id)\n",
    "# smaller_data.userId = smaller_data.userId.apply(remap_user_id)\n",
    "\n",
    "# movies = movies[movies.movieId.isin(movie_id_remapping)]\n",
    "# movies.movieId = movies.movieId.apply(remap_movie_id)\n",
    "\n",
    "# smaller_data.to_csv('ml-20m/ratings_smaller.csv')\n",
    "# movies.to_csv('ml-20m/movies_smaller.csv')\n",
    "\n",
    "# # use sklearn?\n",
    "# import numpy as np\n",
    "# np.random.seed(123)\n",
    "# # One-liner just to load and parse the text file\n",
    "# ratings = np.array([[int(x) for x in r.strip().split('::')]\n",
    "#                     for r in open(\"ml-1m/ratings.dat\").xreadlines()])[:,:-1]\n",
    "# # Shuffle training examples for fair testing and evaluation\n",
    "# np.random.shuffle(ratings)\n",
    "\n",
    "# n_users, n_items, _ = ratings.max(axis=0) + 1\n",
    "\n",
    "# n = len(ratings)\n",
    "# split_ratios = [0, 0.7, 0.85, 1]\n",
    "# train_ratings, valid_ratings, test_ratings = [ratings[int(n*lo):int(n*up)] for (lo, up) in zip(split_ratios[:-1], split_ratios[1:])]"
   ]
  },
  {
   "cell_type": "code",
   "execution_count": 30,
   "metadata": {
    "collapsed": false
   },
   "outputs": [
    {
     "name": "stdout",
     "output_type": "stream",
     "text": [
      "> <ipython-input-30-f56dbb67bf2a>(38)<module>()\n",
      "-> print common_users\n",
      "(Pdb) exit\n"
     ]
    },
    {
     "ename": "BdbQuit",
     "evalue": "",
     "output_type": "error",
     "traceback": [
      "\u001b[1;31m---------------------------------------------------------------------------\u001b[0m",
      "\u001b[1;31mBdbQuit\u001b[0m                                   Traceback (most recent call last)",
      "\u001b[1;32m<ipython-input-30-f56dbb67bf2a>\u001b[0m in \u001b[0;36m<module>\u001b[1;34m()\u001b[0m\n\u001b[0;32m     36\u001b[0m     \u001b[1;32mimport\u001b[0m \u001b[0mpdb\u001b[0m\u001b[1;33m;\u001b[0m \u001b[0mpdb\u001b[0m\u001b[1;33m.\u001b[0m\u001b[0mset_trace\u001b[0m\u001b[1;33m(\u001b[0m\u001b[1;33m)\u001b[0m\u001b[1;33m\u001b[0m\u001b[0m\n\u001b[0;32m     37\u001b[0m \u001b[1;33m\u001b[0m\u001b[0m\n\u001b[1;32m---> 38\u001b[1;33m     \u001b[1;32mprint\u001b[0m \u001b[0mcommon_users\u001b[0m\u001b[1;33m\u001b[0m\u001b[0m\n\u001b[0m",
      "\u001b[1;32m<ipython-input-30-f56dbb67bf2a>\u001b[0m in \u001b[0;36m<module>\u001b[1;34m()\u001b[0m\n\u001b[0;32m     36\u001b[0m     \u001b[1;32mimport\u001b[0m \u001b[0mpdb\u001b[0m\u001b[1;33m;\u001b[0m \u001b[0mpdb\u001b[0m\u001b[1;33m.\u001b[0m\u001b[0mset_trace\u001b[0m\u001b[1;33m(\u001b[0m\u001b[1;33m)\u001b[0m\u001b[1;33m\u001b[0m\u001b[0m\n\u001b[0;32m     37\u001b[0m \u001b[1;33m\u001b[0m\u001b[0m\n\u001b[1;32m---> 38\u001b[1;33m     \u001b[1;32mprint\u001b[0m \u001b[0mcommon_users\u001b[0m\u001b[1;33m\u001b[0m\u001b[0m\n\u001b[0m",
      "\u001b[1;32mC:\\Anaconda2\\lib\\bdb.pyc\u001b[0m in \u001b[0;36mtrace_dispatch\u001b[1;34m(self, frame, event, arg)\u001b[0m\n\u001b[0;32m     47\u001b[0m             \u001b[1;32mreturn\u001b[0m \u001b[1;31m# None\u001b[0m\u001b[1;33m\u001b[0m\u001b[0m\n\u001b[0;32m     48\u001b[0m         \u001b[1;32mif\u001b[0m \u001b[0mevent\u001b[0m \u001b[1;33m==\u001b[0m \u001b[1;34m'line'\u001b[0m\u001b[1;33m:\u001b[0m\u001b[1;33m\u001b[0m\u001b[0m\n\u001b[1;32m---> 49\u001b[1;33m             \u001b[1;32mreturn\u001b[0m \u001b[0mself\u001b[0m\u001b[1;33m.\u001b[0m\u001b[0mdispatch_line\u001b[0m\u001b[1;33m(\u001b[0m\u001b[0mframe\u001b[0m\u001b[1;33m)\u001b[0m\u001b[1;33m\u001b[0m\u001b[0m\n\u001b[0m\u001b[0;32m     50\u001b[0m         \u001b[1;32mif\u001b[0m \u001b[0mevent\u001b[0m \u001b[1;33m==\u001b[0m \u001b[1;34m'call'\u001b[0m\u001b[1;33m:\u001b[0m\u001b[1;33m\u001b[0m\u001b[0m\n\u001b[0;32m     51\u001b[0m             \u001b[1;32mreturn\u001b[0m \u001b[0mself\u001b[0m\u001b[1;33m.\u001b[0m\u001b[0mdispatch_call\u001b[0m\u001b[1;33m(\u001b[0m\u001b[0mframe\u001b[0m\u001b[1;33m,\u001b[0m \u001b[0marg\u001b[0m\u001b[1;33m)\u001b[0m\u001b[1;33m\u001b[0m\u001b[0m\n",
      "\u001b[1;32mC:\\Anaconda2\\lib\\bdb.pyc\u001b[0m in \u001b[0;36mdispatch_line\u001b[1;34m(self, frame)\u001b[0m\n\u001b[0;32m     66\u001b[0m         \u001b[1;32mif\u001b[0m \u001b[0mself\u001b[0m\u001b[1;33m.\u001b[0m\u001b[0mstop_here\u001b[0m\u001b[1;33m(\u001b[0m\u001b[0mframe\u001b[0m\u001b[1;33m)\u001b[0m \u001b[1;32mor\u001b[0m \u001b[0mself\u001b[0m\u001b[1;33m.\u001b[0m\u001b[0mbreak_here\u001b[0m\u001b[1;33m(\u001b[0m\u001b[0mframe\u001b[0m\u001b[1;33m)\u001b[0m\u001b[1;33m:\u001b[0m\u001b[1;33m\u001b[0m\u001b[0m\n\u001b[0;32m     67\u001b[0m             \u001b[0mself\u001b[0m\u001b[1;33m.\u001b[0m\u001b[0muser_line\u001b[0m\u001b[1;33m(\u001b[0m\u001b[0mframe\u001b[0m\u001b[1;33m)\u001b[0m\u001b[1;33m\u001b[0m\u001b[0m\n\u001b[1;32m---> 68\u001b[1;33m             \u001b[1;32mif\u001b[0m \u001b[0mself\u001b[0m\u001b[1;33m.\u001b[0m\u001b[0mquitting\u001b[0m\u001b[1;33m:\u001b[0m \u001b[1;32mraise\u001b[0m \u001b[0mBdbQuit\u001b[0m\u001b[1;33m\u001b[0m\u001b[0m\n\u001b[0m\u001b[0;32m     69\u001b[0m         \u001b[1;32mreturn\u001b[0m \u001b[0mself\u001b[0m\u001b[1;33m.\u001b[0m\u001b[0mtrace_dispatch\u001b[0m\u001b[1;33m\u001b[0m\u001b[0m\n\u001b[0;32m     70\u001b[0m \u001b[1;33m\u001b[0m\u001b[0m\n",
      "\u001b[1;31mBdbQuit\u001b[0m: "
     ]
    }
   ],
   "source": [
    "# user_ratings = {}\n",
    "# item_ratings = {}\n",
    "# user_rated_items = {}\n",
    "# item_rating_users = {}\n",
    "\n",
    "# for u, i, r in train_ratings:\n",
    "#     if u not in user_ratings:\n",
    "#         user_ratings[u] = {}\n",
    "#     if i not in item_ratings:\n",
    "#         item_ratings[i] = {}\n",
    "#     user_ratings[u][i] = r\n",
    "#     item_ratings[i][u] = r\n",
    "    \n",
    "#     if u not in user_rated_items:\n",
    "#         user_rated_items[u] = set()\n",
    "#     if i not in item_rating_users:\n",
    "#         item_rating_users[i] = set()\n",
    "#     user_rated_items[u].add(i)\n",
    "#     item_rating_users[i].add(u)\n",
    "\n",
    "# user, item, rating = valid_ratings[0]\n",
    "\n",
    "# # compute similarity of all other items for that item - itemwise because items are rated by alot of users\n",
    "\n",
    "# similarity = {}\n",
    "# for item_i in (set(item_rating_users.keys()) - set([item])):\n",
    "    \n",
    "#     i_ratings = item_ratings[item_i]\n",
    "\n",
    "#     # Users that rated both \"item\" and \"i\"\n",
    "#     common_users = item_rating_users[item] & item_rating_users[item_i]\n",
    "    \n",
    "#     # Compute similarity between user and each of the common users.\n",
    "#     current_user_ratings = user_ratings[user]\n",
    "    \n",
    "#     import pdb; pdb.set_trace()\n",
    "    \n",
    "#     print common_users"
   ]
  }
 ],
 "metadata": {
  "kernelspec": {
   "display_name": "Python 2",
   "language": "python",
   "name": "python2"
  },
  "language_info": {
   "codemirror_mode": {
    "name": "ipython",
    "version": 2
   },
   "file_extension": ".py",
   "mimetype": "text/x-python",
   "name": "python",
   "nbconvert_exporter": "python",
   "pygments_lexer": "ipython2",
   "version": "2.7.11"
  }
 },
 "nbformat": 4,
 "nbformat_minor": 0
}
